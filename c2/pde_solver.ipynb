{
 "cells": [
  {
   "cell_type": "markdown",
   "metadata": {
    "deletable": false,
    "editable": false,
    "nbgrader": {
     "checksum": "88fee4014b590ae959f5db484be1c0eb",
     "grade": false,
     "grade_id": "cell-9f9ecd29ebcbe850",
     "locked": true,
     "schema_version": 1,
     "solution": false
    }
   },
   "source": [
    "# Checkpoint 2"
   ]
  },
  {
   "cell_type": "code",
   "execution_count": 1,
   "metadata": {},
   "outputs": [],
   "source": [
    "# imports.\n",
    "from datetime import datetime\n",
    "import matplotlib.pyplot as plt\n",
    "%matplotlib inline\n",
    "import numpy as np\n",
    "from scipy import integrate\n",
    "from mpl_toolkits.mplot3d import Axes3D\n",
    "from matplotlib import cm\n",
    "import random"
   ]
  },
  {
   "cell_type": "code",
   "execution_count": 2,
   "metadata": {
    "deletable": false,
    "editable": false,
    "nbgrader": {
     "checksum": "6d591bffc6fd1203414df768ac0b25aa",
     "grade": false,
     "grade_id": "cell-72714a309439f62d",
     "locked": true,
     "schema_version": 1,
     "solution": false
    }
   },
   "outputs": [],
   "source": [
    "plt.rcParams['figure.figsize'] = (10, 6)\n",
    "plt.rcParams['font.size'] = 16"
   ]
  },
  {
   "cell_type": "code",
   "execution_count": 3,
   "metadata": {
    "deletable": false,
    "editable": false,
    "nbgrader": {
     "checksum": "8c34ef76b1c9bbd5f73bbe407efaf567",
     "grade": false,
     "grade_id": "cell-1b475d24f61581ee",
     "locked": true,
     "schema_version": 1,
     "solution": false
    }
   },
   "outputs": [],
   "source": [
    "# Constants\n",
    "G       = 6.67408e-11 # m^3 s^-1 kg^-2\n",
    "AU      = 149.597e9 # m\n",
    "Mearth  = 5.9721986e24 # kg\n",
    "Mmars   = 6.41693e23 # kg\n",
    "Msun    = 1.988435e30 # kg\n",
    "day2sec = 3600 * 24 # seconds in one day"
   ]
  },
  {
   "cell_type": "markdown",
   "metadata": {
    "deletable": false,
    "editable": false,
    "nbgrader": {
     "checksum": "aae179449d9201efe04da666517a2c17",
     "grade": false,
     "grade_id": "cell-55f37f11c1fc43b3",
     "locked": true,
     "schema_version": 1,
     "solution": false
    }
   },
   "source": [
    "## Initial Conditions\n",
    "Below are the initial positions and velocities for Earth and Mars."
   ]
  },
  {
   "cell_type": "code",
   "execution_count": 4,
   "metadata": {
    "deletable": false,
    "editable": false,
    "nbgrader": {
     "checksum": "e22890724abf6be4c0ba18f33e448ba5",
     "grade": false,
     "grade_id": "cell-df492ed51a81990b",
     "locked": true,
     "schema_version": 1,
     "solution": false
    }
   },
   "outputs": [],
   "source": [
    "# positions and velocities at t=0 (2019/6/2)\n",
    "rs = [[-4.8957151e10, -1.4359284e11, 501896.65],  # Earth\n",
    "      [-1.1742901e11, 2.1375285e11, 7.3558899e9]] # Mars (units of m)\n",
    "vs = [[27712., -9730., -0.64148], # Earth\n",
    "      [-20333., -9601., 300.34]]  # Mars (units of m/s)"
   ]
  },
  {
   "cell_type": "markdown",
   "metadata": {
    "deletable": false,
    "editable": false,
    "nbgrader": {
     "checksum": "2c2f62dafb8e4d7f5e1840f7d82880b6",
     "grade": false,
     "grade_id": "cell-b278c5eb67764df3",
     "locked": true,
     "schema_version": 1,
     "solution": false
    }
   },
   "source": [
    "## Historical Positions\n",
    "Below are historical positions for Earth and Mars at t=-1000 days prior to 2019/6/2. These will be used in tasks 5 and 6."
   ]
  },
  {
   "cell_type": "code",
   "execution_count": 5,
   "metadata": {
    "deletable": false,
    "editable": false,
    "nbgrader": {
     "checksum": "511df99f912b1ee08cbbe69ee9eeec82",
     "grade": false,
     "grade_id": "cell-e5f59858932960fb",
     "locked": true,
     "schema_version": 1,
     "solution": false
    }
   },
   "outputs": [],
   "source": [
    "# positions of the planets at (2019/6/2)-1000 days\n",
    "rspast = [[1.44109e11, -4.45267e10, -509142.],   # Earth\n",
    "          [1.11393e11, -1.77611e11, -6.45385e9]] # Mars"
   ]
  },
  {
   "cell_type": "markdown",
   "metadata": {
    "deletable": false,
    "editable": false,
    "nbgrader": {
     "checksum": "9846ce92e819f8e9aff96316801d5799",
     "grade": false,
     "grade_id": "cell-aefd1cf47f53ebf2",
     "locked": true,
     "schema_version": 1,
     "solution": false
    }
   },
   "source": [
    "## Earth/Mars functions\n",
    "Below are functions for the equations of motion (the vector of 1st derivtives) for Earth and Mars and for calculating the angle between Earth and Mars."
   ]
  },
  {
   "cell_type": "code",
   "execution_count": 6,
   "metadata": {
    "deletable": false,
    "editable": false,
    "nbgrader": {
     "checksum": "6bda00cd84da0486ff816aa7f731431b",
     "grade": false,
     "grade_id": "cell-ec7fcffded389b15",
     "locked": true,
     "schema_version": 1,
     "solution": false
    }
   },
   "outputs": [],
   "source": [
    "def earth_mars_motion(t, y):\n",
    "    \"\"\"\n",
    "    # order of variables\n",
    "    # 0,1,2 rx,ry,rz for Earth\n",
    "    # 3,4,5 rx,ry,rz for Mars\n",
    "    # 6,7,8 vx,vy,vz for Earth\n",
    "    # 9,10,11 vx,vy,vz for Mars\n",
    "\n",
    "    # order of derivatives:\n",
    "    # 0,1,2 Drx,Dry,Drz for Earth\n",
    "    # 3,4,5 Drx,Dry,Drz for Mars\n",
    "    # 6,7,8 Dvx,Dvy,Dvz for Earth\n",
    "    # 9,10,11 Dvx,Dvy,Dvy for Mars\n",
    "    \"\"\"\n",
    "\n",
    "    rx1,ry1,rz1, rx2,ry2,rz2, vx1,vy1,vz1, vx2,vy2,vz2 = y\n",
    "    drx1 = vx1\n",
    "    dry1 = vy1\n",
    "    drz1 = vz1\n",
    "    drx2 = vx2\n",
    "    dry2 = vy2\n",
    "    drz2 = vz2\n",
    "    \n",
    "    GMmars  = G*Mmars\n",
    "    GMearth = G*Mearth\n",
    "    GMsun   = G*Msun\n",
    "    \n",
    "    rx12 = rx1 - rx2\n",
    "    ry12 = ry1 - ry2\n",
    "    rz12 = rz1 - rz2\n",
    "    xy12 = np.power(np.power(rx12,2) + 2*np.power(ry12,2),1.5)\n",
    "    xyz1 = np.power(np.power(rx1,2) + np.power(ry1,2) + np.power(rz1,2),1.5)\n",
    "    xyz2 = np.power(np.power(rx2,2) + np.power(ry2,2) + np.power(rz2,2),1.5)\n",
    "\n",
    "    dvx1 =  GMmars  * rx12 / xy12 - GMsun * rx1 / xyz1\n",
    "    dvy1 =  GMmars  * ry12 / xy12 - GMsun * ry1 / xyz1\n",
    "    dvz1 =  GMmars  * rz12 / xy12 - GMsun * rz1 / xyz1\n",
    "    dvx2 = -GMearth * rx12 / xy12 - GMsun * rx2 / xyz2\n",
    "    dvy2 = -GMearth * ry12 / xy12 - GMsun * ry2 / xyz2\n",
    "    dvz2 = -GMearth * rz12 / xy12 - GMsun * rz2 / xyz2\n",
    "    \n",
    "    return np.array([drx1,dry1,drz1, drx2,dry2,drz2,\n",
    "                     dvx1,dvy1,dvz1, dvx2,dvy2,dvz2])\n",
    "\n",
    "def angle_between_planets(y):\n",
    "    \"\"\"\n",
    "    Input should be same form as the y variable in the earth_mars_motion function.\n",
    "    \"\"\"\n",
    "    r1 = y[0:3]\n",
    "    r2 = y[3:6]\n",
    "    return np.arccos((r1*r2).sum(axis=0) /\n",
    "                     np.sqrt((r1*r1).sum(axis=0) * (r2*r2).sum(axis=0)))"
   ]
  },
  {
   "cell_type": "markdown",
   "metadata": {
    "deletable": false,
    "editable": false,
    "nbgrader": {
     "checksum": "0ef749500f1b83f1be14d1fa751d580a",
     "grade": false,
     "grade_id": "cell-14901e5a0e7949eb",
     "locked": true,
     "schema_version": 1,
     "solution": false
    }
   },
   "source": [
    "## Task 1\n",
    "Write a code that solves the equations and plots trajectories of Mars and Earth up to some $t_{max}$. The 3D plot should include at least one full orbit for each body."
   ]
  },
  {
   "cell_type": "code",
   "execution_count": 7,
   "metadata": {
    "deletable": false,
    "nbgrader": {
     "checksum": "136a51009c5a27d7c6459bc30809a5fe",
     "grade": true,
     "grade_id": "cell-093022246cbcd3f1",
     "locked": false,
     "points": 1,
     "schema_version": 1,
     "solution": true
    }
   },
   "outputs": [
    {
     "name": "stderr",
     "output_type": "stream",
     "text": [
      "/Users/callum/.conda/envs/coding/lib/python3.7/site-packages/IPython/core/pylabtools.py:128: UserWarning: Creating legend with loc=\"best\" can be slow with large amounts of data.\n",
      "  fig.canvas.print_figure(bytes_io, **kw)\n"
     ]
    },
    {
     "data": {
      "image/png": "[encoded data removed]",
      "text/plain": [
       "<Figure size 1080x720 with 1 Axes>"
      ]
     },
     "metadata": {
      "needs_background": "light"
     },
     "output_type": "display_data"
    }
   ],
   "source": [
    "# setting time domain.\n",
    "tmax = 8000*day2sec # 8000 days.\n",
    "dt = 3600 # 1 hour.\n",
    "ts = np.arange(0, tmax, dt)\n",
    "trange = (ts[0], ts[-1])\n",
    "    \n",
    "def get_traj(initial_rs, initial_vs):\n",
    "    ini = np.append(initial_rs, initial_vs) # initial coordinates of Earth and Mars\n",
    "    sol = integrate.solve_ivp(earth_mars_motion, trange, ini, method = 'RK45', t_eval=ts, max_step = 1e6)\n",
    "    \n",
    "    rx1 = sol.y[0] # x pos of Earth\n",
    "    ry1 = sol.y[1] # y pos of Earth\n",
    "    rz1 = sol.y[2] # z pos of Earth\n",
    "    \n",
    "    rx2 = sol.y[3] # x pos of Mars\n",
    "    ry2 = sol.y[4] # y pos of Mars\n",
    "    rz2 = sol.y[5] # z pos of Mars\n",
    "    \n",
    "    vx1 = sol.y[6] # x velocity of Earth\n",
    "    vy1 = sol.y[7] # y velocity of Earth\n",
    "    vz1 = sol.y[8] # z velocity of Earth\n",
    "    \n",
    "    vx2 = sol.y[9] # x velocity of Mars\n",
    "    vy2 = sol.y[10] # y velocity of Mars\n",
    "    vz2 = sol.y[11] # z velocity of Mars\n",
    "    \n",
    "    y = sol.y\n",
    "    t = sol.t\n",
    "    \n",
    "    return y, t\n",
    "    \n",
    "\n",
    "def plot_traj(y):\n",
    "    \n",
    "    # creating 3D figure object\n",
    "    fig = plt.figure(figsize = (15,10))\n",
    "    ax = fig.gca(projection='3d')\n",
    "    \n",
    "    rx1 = y[0] # x pos of Earth\n",
    "    ry1 = y[1] # y pos of Earth\n",
    "    rz1 = y[2] # z pos of Earth\n",
    "    \n",
    "    rx2 = y[3] # x pos of Mars\n",
    "    ry2 = y[4] # y pos of Mars\n",
    "    rz2 = y[5] # z pos of Mars\n",
    "    \n",
    "    # Plotting Earth and Mars trajectories\n",
    "    earth, = ax.plot(rx1, ry1, rz1, c = 'b')\n",
    "    earth.set_label('Earth')\n",
    "    mars, = ax.plot(rx2, ry2, rz2, c = 'r')\n",
    "    mars.set_label('Mars')\n",
    "    plt.legend()\n",
    "    \n",
    "    # Labelling axes\n",
    "    ax.xaxis.set_label_text('x position from Sun (m)', fontsize = 12)\n",
    "    ax.xaxis.labelpad = 15\n",
    "    ax.yaxis.set_label_text('y position from Sun (m)', fontsize = 12)\n",
    "    ax.yaxis.labelpad = 15\n",
    "    ax.zaxis.set_label_text('z position from Sun (m)', fontsize = 12)\n",
    "    ax.zaxis.labelpad = 15\n",
    "    plt.title('Trajectory of the Earth and Mars relative to the Sun', fontsize = 22)\n",
    "    plt.show()\n",
    "    \n",
    "y, t = get_traj(rs, vs)\n",
    "plot_traj(y)"
   ]
  },
  {
   "cell_type": "markdown",
   "metadata": {
    "deletable": false,
    "editable": false,
    "nbgrader": {
     "checksum": "0102561aea0b6df39c70e66c3ec40b29",
     "grade": false,
     "grade_id": "cell-f382f634b59a9904",
     "locked": true,
     "schema_version": 1,
     "solution": false
    }
   },
   "source": [
    "## Task 2\n",
    "Find the time of the next opposition to $\\pm10$ days. Return the time in days from $t_0$ = 2 June 2019."
   ]
  },
  {
   "cell_type": "code",
   "execution_count": 8,
   "metadata": {
    "deletable": false,
    "nbgrader": {
     "checksum": "46aa5e2c1c75f8ca26b0fa186fb93e59",
     "grade": false,
     "grade_id": "cell-a6eb52cac0bb3fe9",
     "locked": false,
     "schema_version": 1,
     "solution": true
    }
   },
   "outputs": [],
   "source": [
    "def get_opp_times(solutions, times):\n",
    "    thetas = angle_between_planets(solutions)\n",
    "    # finding relationship between neighbouring points.\n",
    "    thetas_diff = np.diff(thetas)\n",
    "    # determining locations of minima.\n",
    "    indices = np.where(np.sign(thetas_diff[:-1]) < np.sign(thetas_diff[1:]))[0] + 1\n",
    "    # recording times these minima occur.\n",
    "    opp_times = times[indices]\n",
    "    \n",
    "    return (opp_times[:10]) / 86400\n",
    "\n",
    "def time_to_next_opposition():\n",
    "    # get trajectories.\n",
    "    solutions, times = get_traj(rs, vs)\n",
    "    # get opposition times.\n",
    "    opp_times = get_opp_times(solutions, times)\n",
    "    \n",
    "    return opp_times"
   ]
  },
  {
   "cell_type": "code",
   "execution_count": 9,
   "metadata": {
    "deletable": false,
    "editable": false,
    "nbgrader": {
     "checksum": "88173e7cccc4dcc163474b71ba8ed4b2",
     "grade": true,
     "grade_id": "cell-875242b5a2e0eb86",
     "locked": true,
     "points": 1,
     "schema_version": 1,
     "solution": false
    }
   },
   "outputs": [
    {
     "name": "stdout",
     "output_type": "stream",
     "text": [
      "Next opposition in [ 500.25       1285.75       2056.         2820.875      3585.875\n",
      " 4356.29166667 5142.08333333 5952.45833333 6748.08333333 7522.58333333] days.\n"
     ]
    }
   ],
   "source": [
    "t_opp = time_to_next_opposition()\n",
    "print (f\"Next opposition in {t_opp} days.\")"
   ]
  },
  {
   "cell_type": "markdown",
   "metadata": {
    "deletable": false,
    "editable": false,
    "nbgrader": {
     "checksum": "dc1e83a5510ba8b9ac5d59a0b5983e4e",
     "grade": false,
     "grade_id": "cell-3176c2aceac4a246",
     "locked": true,
     "schema_version": 1,
     "solution": false
    }
   },
   "source": [
    "## Task 3\n",
    "Find the times for 10 oppositions in days since 2 June 2019. The results must be accurate to 1 day. Convert this to dates (year/month/day) and print out on the screen. Do not worry if the dates come out different than the actual dates you can find online, it’s supposed to be like that.\n",
    "\n",
    "The `calculate_oppositions` function should return a list of the ten next opposition times after 2 June, 2019. The times should be returned in units of days. You may create additional functions outside this cell that are called by `calculate_oppositions`."
   ]
  },
  {
   "cell_type": "code",
   "execution_count": 10,
   "metadata": {
    "deletable": false,
    "nbgrader": {
     "checksum": "aac3c31dabeb5fe957d0a0668d7308fb",
     "grade": false,
     "grade_id": "cell-026db3d3375ced5e",
     "locked": false,
     "schema_version": 1,
     "solution": true
    }
   },
   "outputs": [],
   "source": [
    "def get_opp_times(solutions, times):\n",
    "    thetas = angle_between_planets(solutions)\n",
    "    # finding relationship between neighbouring points\n",
    "    thetas_diff = np.diff(thetas)\n",
    "    # determining locations of minima\n",
    "    indices = np.where(np.sign(thetas_diff[:-1]) < np.sign(thetas_diff[1:]))[0] + 1\n",
    "    # recording times these minima occur\n",
    "    opp_times = times[indices]\n",
    "    \n",
    "    return (opp_times[:10]) / 86400\n",
    "\n",
    "def calculate_oppositions():\n",
    "    # get trajectories\n",
    "    solutions, times = get_traj(rs, vs)\n",
    "    # get opposition times\n",
    "    opp_times = get_opp_times(solutions, times)\n",
    "    \n",
    "    return opp_times"
   ]
  },
  {
   "cell_type": "code",
   "execution_count": 11,
   "metadata": {
    "deletable": false,
    "editable": false,
    "nbgrader": {
     "checksum": "53cb3894c30dd1060a4e7e37e44ad3d6",
     "grade": true,
     "grade_id": "cell-0672ad3cc8a98d94",
     "locked": true,
     "points": 1,
     "schema_version": 1,
     "solution": false
    }
   },
   "outputs": [
    {
     "name": "stdout",
     "output_type": "stream",
     "text": [
      "t = 500.25 day: 2020-10-14 06:00:00\n",
      "t = 1285.75 day: 2022-12-08 17:00:00\n",
      "t = 2056.00 day: 2025-01-16 23:00:00\n",
      "t = 2820.88 day: 2027-02-20 20:00:00\n",
      "t = 3585.88 day: 2029-03-26 21:00:00\n",
      "t = 4356.29 day: 2031-05-06 07:00:00\n",
      "t = 5142.08 day: 2033-06-30 02:00:00\n",
      "t = 5952.46 day: 2035-09-18 11:00:00\n",
      "t = 6748.08 day: 2037-11-22 01:00:00\n",
      "t = 7522.58 day: 2040-01-05 13:00:00\n"
     ]
    }
   ],
   "source": [
    "opp_times  = calculate_oppositions()\n",
    "opp_times *= day2sec\n",
    "date0      = datetime.fromisoformat('2019-06-02')\n",
    "timestamp0 = datetime.timestamp(date0)\n",
    "for t in opp_times:\n",
    "    print(f\"t = {t/day2sec:.2f} day: {datetime.fromtimestamp(t+timestamp0)}\")"
   ]
  },
  {
   "cell_type": "markdown",
   "metadata": {
    "deletable": false,
    "editable": false,
    "nbgrader": {
     "checksum": "493b005a19c2838b5f7d3d3838ba604c",
     "grade": false,
     "grade_id": "cell-5a214036e8da8fd8",
     "locked": true,
     "schema_version": 1,
     "solution": false
    }
   },
   "source": [
    "## Task 4\n",
    "Estimate standard errors of these times assuming that all initial positions and velocities (12 numbers) are normally distributed random numbers with means as specified in the list of parameters, and coefficients of variation (standard deviation divided by the mean) equal to 3x10$^{-5}$.\n",
    "\n",
    "The `estimate_errors` function should return two lists:\n",
    "1. a list (or array) of the mean opposition times for 10 oppositions\n",
    "2. a list (or array) of the standard deviation for each time\n",
    "\n",
    "\n",
    "Units should be in days."
   ]
  },
  {
   "cell_type": "markdown",
   "metadata": {},
   "source": [
    "RUN TIME FOR N = 50 ~ 1min WHEN RAN LOCALLY"
   ]
  },
  {
   "cell_type": "code",
   "execution_count": 15,
   "metadata": {},
   "outputs": [],
   "source": [
    "# gaussian sampling function.\n",
    "def get_sample(arr):\n",
    "    arr = np.array(arr)\n",
    "    sample = np.random.normal(loc = arr, scale = abs(3e-5*arr))\n",
    "    return sample"
   ]
  },
  {
   "cell_type": "code",
   "execution_count": 17,
   "metadata": {
    "deletable": false,
    "nbgrader": {
     "checksum": "98754a52d365cdddbbb11711b218236c",
     "grade": false,
     "grade_id": "cell-af6aa3d7c9d24a6f",
     "locked": false,
     "schema_version": 1,
     "solution": true
    }
   },
   "outputs": [],
   "source": [
    "def estimate_errors():\n",
    "    # number of Monte Carlo simulations.\n",
    "    N = 50\n",
    "    sample_space = np.arange(0, tmax, tmax / N)\n",
    "    # initialise array to store the opposition times from each simulation.\n",
    "    opp_times_arr = np.zeros((N, 10))\n",
    "    # finding opposition times.\n",
    "    for i in range(sample_space.size): \n",
    "        # varying initial conditions through random sampling of normal dist.\n",
    "        ini_r = get_sample(rs)\n",
    "        ini_v = get_sample(vs)\n",
    "        trajs, times = get_traj(ini_r, ini_v)\n",
    "        opp_times_arr[i] = get_opp_times(trajs, times)\n",
    "        \n",
    "    # analysis.\n",
    "    mean_opp_times = np.mean(opp_times_arr, axis = 0)\n",
    "    error = np.std(opp_times_arr, axis = 0)\n",
    "    return mean_opp_times, error"
   ]
  },
  {
   "cell_type": "code",
   "execution_count": 18,
   "metadata": {
    "deletable": false,
    "editable": false,
    "nbgrader": {
     "checksum": "72fe85f8b1609e4d65aec5e96547847b",
     "grade": true,
     "grade_id": "cell-fbdd4bcaf0c1617e",
     "locked": true,
     "points": 1,
     "schema_version": 1,
     "solution": false
    }
   },
   "outputs": [
    {
     "name": "stdout",
     "output_type": "stream",
     "text": [
      "0: 500.28 +- 0.15 days.\n",
      "1: 1285.82 +- 0.31 days.\n",
      "2: 2056.07 +- 0.44 days.\n",
      "3: 2820.99 +- 0.58 days.\n",
      "4: 3586.00 +- 0.76 days.\n",
      "5: 4356.49 +- 1.04 days.\n",
      "6: 5142.35 +- 1.60 days.\n",
      "7: 5952.83 +- 2.08 days.\n",
      "8: 6748.41 +- 1.76 days.\n",
      "9: 7522.88 +- 1.65 days.\n"
     ]
    }
   ],
   "source": [
    "tmean, tstd = estimate_errors()\n",
    "for i in range(10):\n",
    "    print(f\"{i}: {tmean[i]:.2f} +- {tstd[i]:.2f} days.\")"
   ]
  },
  {
   "cell_type": "markdown",
   "metadata": {
    "deletable": false,
    "editable": false,
    "nbgrader": {
     "checksum": "23c697ea6d8c78da7a2fd588967588e5",
     "grade": false,
     "grade_id": "cell-4b0af70f7b5d0abe",
     "locked": true,
     "schema_version": 1,
     "solution": false
    }
   },
   "source": [
    "## Task 5\n",
    "Use historical positions of Earth and Mars (boundary value problem) to improve the accuracy of your prediction. What are the standard errors now?\n",
    "\n",
    "The `estimate_errors_improved` function should return two lists:\n",
    "1. a list (or array) of the mean opposition times for 10 oppositions\n",
    "2. a list (or array) of the standard deviation for each time\n",
    "\n",
    "Units should be in days."
   ]
  },
  {
   "cell_type": "markdown",
   "metadata": {},
   "source": [
    "PLEASE READ BELOW PARAGRAPH."
   ]
  },
  {
   "cell_type": "markdown",
   "metadata": {},
   "source": [
    "In order to solve task 5, I wanted to solve the boundary value problem from t = -1000 days to t = 0 days. I did this by propagating my solution to task 1 backwards in time to t = -1000 days and then using this solution as my initial guess for the boundary value problem. Once I had the solution from BVP, I was able to obtain the velocities from BVP at t = 0 days. I used these velocities to run my Monte Carlo simulation which consisted of \n",
    "sample from gaussian --> solve ivp (past) --> solve bvp --> solveivp (future) --> get opp_times --> repeat\n",
    "\n",
    "RUNTIME FOR N = 50 ~ 2mins when ran locally"
   ]
  },
  {
   "cell_type": "code",
   "execution_count": 222,
   "metadata": {},
   "outputs": [],
   "source": [
    "def bc(ya, yb):\n",
    "    \"\"\"\n",
    "    :param ya: array of positions and velocities of Earth and Mars at t = -1000 days\n",
    "    :param yb: array of positions and velocities of Earth and Mars at t = 0 days\n",
    "    \"\"\"\n",
    "    # converting lists to arrays to have correct dimensions for solve_bvp.\n",
    "    ra = np.array(rspast)\n",
    "    ra = ra.reshape(6)\n",
    "    rb = np.array(rs)\n",
    "    rb = rb.reshape(6)\n",
    "        \n",
    "    bc_a = ya[:6] - ra\n",
    "    bc_b = yb[:6] - rb\n",
    "    \n",
    "    return np.append(bc_a, bc_b)"
   ]
  },
  {
   "cell_type": "code",
   "execution_count": 223,
   "metadata": {},
   "outputs": [],
   "source": [
    "def reverse_ivp(initial_rs, initial_vs):\n",
    "    # function used to the initial value problem in reverse e.g. propagate backwards in time.\n",
    "    ini = np.append(initial_rs, initial_vs) # initial coordinates of Earth and Mars.\n",
    "    sol = integrate.solve_ivp(earth_mars_motion, trange_r, ini, method = 'RK45', t_eval=ts_r, max_step = 1e6)\n",
    "    \n",
    "    rx1 = sol.y[0] # x pos of Earth.\n",
    "    ry1 = sol.y[1] # y pos of Earth.\n",
    "    rz1 = sol.y[2] # z pos of Earth.\n",
    "    \n",
    "    rx2 = sol.y[3] # x pos of Mars.\n",
    "    ry2 = sol.y[4] # y pos of Mars.\n",
    "    rz2 = sol.y[5] # z pos of Mars.\n",
    "    \n",
    "    vx1 = sol.y[6] # x velocity of Earth.\n",
    "    vy1 = sol.y[7] # y velocity of Earth.\n",
    "    vz1 = sol.y[8] # z velocity of Earth.\n",
    "    \n",
    "    vx2 = sol.y[9] # x velocity of Mars.\n",
    "    vy2 = sol.y[10] # y velocity of Mars.\n",
    "    vz2 = sol.y[11] # z velocity of Mars.\n",
    "    \n",
    "    y = sol.y\n",
    "    t = sol.t\n",
    "    \n",
    "    return y, t    "
   ]
  },
  {
   "cell_type": "code",
   "execution_count": 224,
   "metadata": {},
   "outputs": [],
   "source": [
    "# bvp solver.\n",
    "def get_traj_bvp(t, y, bc):\n",
    "    sol = integrate.solve_bvp(earth_mars_motion, bc, t, y, max_nodes = 1e5)\n",
    "    y_sol = sol.sol(t)\n",
    "    return y_sol"
   ]
  },
  {
   "cell_type": "code",
   "execution_count": 225,
   "metadata": {
    "deletable": false,
    "nbgrader": {
     "checksum": "ede3729610a0ab089f8580f67298caff",
     "grade": false,
     "grade_id": "cell-cf1432c5d1c9b760",
     "locked": false,
     "schema_version": 1,
     "solution": true
    }
   },
   "outputs": [],
   "source": [
    "def estimate_errors_improved():\n",
    "    ts_r = np.linspace(0, 1000*day2sec, 5000) # reverse time domain.\n",
    "    trange_r = (ts_r[0], ts_r[-1])\n",
    "    t_bvp = np.linspace(-1000*day2sec, 0, 5000) # bvp time domain.\n",
    "    \n",
    "    # reverse velocities to propagate backwards.\n",
    "    vs_arr = np.array(vs)\n",
    "    y_reverse, t_reverse = reverse_ivp(rs, -1 * vs_arr)\n",
    "    y_reverse = np.flip(y_reverse, axis = 1) # flipping along the columns.\n",
    "    y = y_reverse # setting initial guess for BVP to solution from reverse IVP.\n",
    "    \n",
    "    # using velocities obtained from BVP to run simulations again.\n",
    "    y_bvp = get_traj_bvp(t_bvp, y, bc)\n",
    "    new_vs = y_bvp[6:,-1]\n",
    "    \n",
    "    # number of Monte Carlo simulations.\n",
    "    N = 50\n",
    "    sample_space = np.arange(0, tmax, tmax / N)\n",
    "    # initialise array to store the opposition times from each simulation.\n",
    "    opp_times_arr = np.zeros((N, 10))\n",
    "    for i in range(sample_space.size):\n",
    "        # varying initial conditions.\n",
    "        new_rs = get_sample(rs)\n",
    "        new_vs = get_sample(new_vs)\n",
    "        y_reverse, t_reverse = reverse_ivp(new_rs, -1 * new_vs)\n",
    "        y_reverse = np.flip(y_reverse, axis = 1) # flipping along the columns.\n",
    "        y = y_reverse\n",
    "        y_bvp = get_traj_bvp(t_bvp, y, bc)\n",
    "        # updating velocity for propagation into the future.\n",
    "        new_vs = y_bvp[6:,-1]\n",
    "        new_trajs, new_times = get_traj(new_rs, new_vs)\n",
    "        opp_times_arr[i] = get_opp_times(new_trajs, new_times)\n",
    "        \n",
    "    # analysis.\n",
    "    mean_opp_times = np.mean(opp_times_arr, axis = 0)\n",
    "    error = np.std(opp_times_arr, axis = 0)\n",
    "    return mean_opp_times, error\n",
    "    "
   ]
  },
  {
   "cell_type": "code",
   "execution_count": 226,
   "metadata": {
    "deletable": false,
    "editable": false,
    "nbgrader": {
     "checksum": "7f54774c13f6cc284dd750ca764b5c02",
     "grade": true,
     "grade_id": "cell-cfa3d26eaed2c199",
     "locked": true,
     "points": 1,
     "schema_version": 1,
     "solution": false
    }
   },
   "outputs": [
    {
     "name": "stdout",
     "output_type": "stream",
     "text": [
      "0: 500.14 +- 0.09 days.\n",
      "1: 1285.20 +- 0.18 days.\n",
      "2: 2055.03 +- 0.25 days.\n",
      "3: 2819.57 +- 0.33 days.\n",
      "4: 3584.19 +- 0.44 days.\n",
      "5: 4354.27 +- 0.60 days.\n",
      "6: 5139.64 +- 0.91 days.\n",
      "7: 5949.73 +- 1.20 days.\n",
      "8: 6745.08 +- 1.00 days.\n",
      "9: 7519.23 +- 0.94 days.\n"
     ]
    }
   ],
   "source": [
    "tmean, tstd = estimate_errors_improved()\n",
    "\n",
    "for i in range(10):\n",
    "    print(f\"{i}: {tmean[i]:.2f} +- {tstd[i]:.2f} days.\")"
   ]
  },
  {
   "cell_type": "markdown",
   "metadata": {
    "deletable": false,
    "editable": false,
    "nbgrader": {
     "checksum": "aa5cc52310cdc375a194d9b40d4ffd89",
     "grade": false,
     "grade_id": "cell-71317d4569ef2709",
     "locked": true,
     "schema_version": 1,
     "solution": false
    }
   },
   "source": [
    "##  Task 6\n",
    "Using the methods from Task 5, is there a better time point in the last 1000 days to get historical data for increasing the accuracy? Find such time t in the past 1000 days (-1000<$t$<0 days, where $t$=0 corresponds to 2 June 2019) which would yield a maximum error (std. deviation) of less than 0.2 days for each of the 10 oppositions.\n",
    "\n",
    "$t$ should be a negative number, accurate to +/- 50 days.\n",
    "\n",
    "The code for task 6 can take any form you like."
   ]
  },
  {
   "cell_type": "code",
   "execution_count": 78,
   "metadata": {
    "deletable": false,
    "nbgrader": {
     "checksum": "14f59587789e35c4523a0369b2a8e4a4",
     "grade": true,
     "grade_id": "cell-1e9f10640b0ae3b8",
     "locked": false,
     "points": 1,
     "schema_version": 1,
     "solution": true
    }
   },
   "outputs": [
    {
     "ename": "NotImplementedError",
     "evalue": "",
     "output_type": "error",
     "traceback": [
      "\u001b[0;31m---------------------------------------------------------------------------\u001b[0m",
      "\u001b[0;31mNotImplementedError\u001b[0m                       Traceback (most recent call last)",
      "\u001b[0;32m<ipython-input-78-a4b050a7c76d>\u001b[0m in \u001b[0;36m<module>\u001b[0;34m\u001b[0m\n\u001b[1;32m      1\u001b[0m \u001b[0;31m# Remove the line that says \"raise NotImplementedError\"\u001b[0m\u001b[0;34m\u001b[0m\u001b[0;34m\u001b[0m\u001b[0;34m\u001b[0m\u001b[0m\n\u001b[1;32m      2\u001b[0m \u001b[0;31m# YOUR CODE HERE\u001b[0m\u001b[0;34m\u001b[0m\u001b[0;34m\u001b[0m\u001b[0;34m\u001b[0m\u001b[0m\n\u001b[0;32m----> 3\u001b[0;31m \u001b[0;32mraise\u001b[0m \u001b[0mNotImplementedError\u001b[0m\u001b[0;34m(\u001b[0m\u001b[0;34m)\u001b[0m\u001b[0;34m\u001b[0m\u001b[0;34m\u001b[0m\u001b[0m\n\u001b[0m",
      "\u001b[0;31mNotImplementedError\u001b[0m: "
     ]
    }
   ],
   "source": [
    "# Remove the line that says \"raise NotImplementedError\"\n",
    "# YOUR CODE HERE\n",
    "raise NotImplementedError()"
   ]
  },
  {
   "cell_type": "code",
   "execution_count": null,
   "metadata": {},
   "outputs": [],
   "source": []
  }
 ],
 "metadata": {
  "kernelspec": {
   "display_name": "Python 3",
   "language": "python",
   "name": "python3"
  },
  "language_info": {
   "codemirror_mode": {
    "name": "ipython",
    "version": 3
   },
   "file_extension": ".py",
   "mimetype": "text/x-python",
   "name": "python",
   "nbconvert_exporter": "python",
   "pygments_lexer": "ipython3",
   "version": "3.7.4"
  }
 },
 "nbformat": 4,
 "nbformat_minor": 2
}
