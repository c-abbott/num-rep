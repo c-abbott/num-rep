{
 "cells": [
  {
   "cell_type": "markdown",
   "metadata": {
    "deletable": false,
    "editable": false,
    "nbgrader": {
     "checksum": "f9affb27eef0f9e9f774e40c952f3278",
     "grade": false,
     "grade_id": "cell-cc04563782e884e1",
     "locked": true,
     "schema_version": 1,
     "solution": false
    }
   },
   "source": [
    "# Numerical Recipes Workshop 6\n",
    "For the week of 28 October to 1 November, 2019.\n",
    "\n",
    "This notebook will cover some boundary value problem solving and minimization."
   ]
  },
  {
   "cell_type": "code",
   "execution_count": 5,
   "metadata": {},
   "outputs": [],
   "source": [
    "from matplotlib import pyplot as plt\n",
    "%matplotlib inline\n",
    "import numpy as np"
   ]
  },
  {
   "cell_type": "code",
   "execution_count": 6,
   "metadata": {},
   "outputs": [],
   "source": [
    "plt.rcParams['figure.figsize'] = (10, 6)\n",
    "plt.rcParams['font.size'] = 14"
   ]
  },
  {
   "cell_type": "markdown",
   "metadata": {
    "deletable": false,
    "editable": false,
    "nbgrader": {
     "checksum": "976d7b890e7baffdcf881b98f63ab07f",
     "grade": false,
     "grade_id": "cell-d3796d92bf8b4168",
     "locked": true,
     "schema_version": 1,
     "solution": false
    }
   },
   "source": [
    "## Solving Boundary Value Problems\n",
    "\n",
    "SciPy's [solve_bvp](https://docs.scipy.org/doc/scipy/reference/generated/scipy.integrate.solve_bvp.html) function will solve a boundary value problem given a system of ordinary differential equations (ODEs). We will consider an example from the function's documentation.\n",
    "\n",
    "### The Bratu Problem\n",
    "This is defined as:\n",
    "\n",
    "$\n",
    "\\begin{align}\n",
    "\\large\n",
    "\\frac{d^{2}y}{dx^{2}} + e^{y} = 0\n",
    "\\end{align}\n",
    "$\n",
    "\n",
    "$\n",
    "\\begin{align}\n",
    "\\large\n",
    "y(0) = y(1) = 0\n",
    "\\end{align}\n",
    "$\n",
    "\n",
    "The setup is similar to that of [solve_ivp](https://docs.scipy.org/doc/scipy/reference/generated/scipy.integrate.solve_ivp.html#scipy.integrate.solve_ivp) for initial value problems. We need to define a function that returns the derivative of the system of equations. As with the parabolic motion example, we can decompse the nth order ODE into a system of n 1st order ODEs.\n",
    "\n",
    "$\n",
    "\\begin{align}\n",
    "\\large\n",
    "\\frac{dy}{dx} = v(x)\n",
    "\\end{align}\n",
    "$\n",
    "\n",
    "$\n",
    "\\begin{align}\n",
    "\\large\n",
    "\\frac{dv}{dx} = -e^{y(x)}\n",
    "\\end{align}\n",
    "$\n",
    "\n",
    "The difference here is that both $y$ and $v$ will be arrays instead of single values."
   ]
  },
  {
   "cell_type": "code",
   "execution_count": 7,
   "metadata": {},
   "outputs": [],
   "source": [
    "def derivatives(x, y):\n",
    "    \"\"\"\n",
    "    y0 = f(x)  => dy0/dx = y1\n",
    "    y1 = df/dx => dy1/dx = -e^y0\n",
    "    \"\"\"\n",
    "    return np.vstack((y[1], -np.exp(y[0])))"
   ]
  },
  {
   "cell_type": "markdown",
   "metadata": {
    "deletable": false,
    "editable": false,
    "nbgrader": {
     "checksum": "0f9c4c50b04bfd045a1b41dcff0d4a5c",
     "grade": false,
     "grade_id": "cell-92acb9e58d3d5a19",
     "locked": true,
     "schema_version": 1,
     "solution": false
    }
   },
   "source": [
    "It may be helpful to look up the documentation on `np.vstack` and to stick a print statement into the `derivatives` to understand what the arguments look like.\n",
    "\n",
    "We also need to create a function to return the relevant boundary conditions. Similar to the events functions for `solve_ivp`, the `solve_bvp` function will look for solutions where the boundary conditions function returns 0s. For a systen of n ODEs, the boundary conditions function must n values, but they can be related to any one of the equations and be for either the left or right side.\n",
    "\n",
    "The arguments of the boundary conditions function are `ya` and `yb`, the values of the system of equations on the left side ($x = a$) and the right side ($x = b$). For the Bratu problem, the relevant boundary conditions are $y(a) = 0$ and $y(b) = 0$, where $a = 0$ and $b = 1$."
   ]
  },
  {
   "cell_type": "code",
   "execution_count": 8,
   "metadata": {},
   "outputs": [],
   "source": [
    "def bc(ya, yb):\n",
    "    \"\"\"\n",
    "    ya is [f(x), df/dx] on the left (x = 0)\n",
    "    yb is [f(x), df/dx] on the right (x = 1)\n",
    "    \n",
    "    For this problem, we want y(0) = 0 and y(1) = 0\n",
    "    \"\"\"\n",
    "    return np.array([ya[0], # f(x) on left side\n",
    "                     yb[0]]) # f(x) on right side\n"
   ]
  },
  {
   "cell_type": "markdown",
   "metadata": {
    "deletable": false,
    "editable": false,
    "nbgrader": {
     "checksum": "8f539824eae18a63b87ac594d0794863",
     "grade": false,
     "grade_id": "cell-b36aeaea9cebd598",
     "locked": true,
     "schema_version": 1,
     "solution": false
    }
   },
   "source": [
    "Now define the initial x-space over which to solve the problem."
   ]
  },
  {
   "cell_type": "code",
   "execution_count": 9,
   "metadata": {},
   "outputs": [],
   "source": [
    "x = np.linspace(0, 1, 5)"
   ]
  },
  {
   "cell_type": "markdown",
   "metadata": {
    "deletable": false,
    "editable": false,
    "nbgrader": {
     "checksum": "b05830d71cf4d27b908e845b505d9d20",
     "grade": false,
     "grade_id": "cell-7f9a56f9e26c7bf4",
     "locked": true,
     "schema_version": 1,
     "solution": false
    }
   },
   "source": [
    "Create an initial guess for the solution. The array must have the shape ($N_{equations}$, $N_x$)."
   ]
  },
  {
   "cell_type": "code",
   "execution_count": 10,
   "metadata": {},
   "outputs": [],
   "source": [
    "# start with all zeroes\n",
    "y = np.zeros((2, x.size))"
   ]
  },
  {
   "cell_type": "markdown",
   "metadata": {
    "deletable": false,
    "editable": false,
    "nbgrader": {
     "checksum": "7116c5cafc45a2bd044512bbaef2f9f3",
     "grade": false,
     "grade_id": "cell-b3b5da20bba0a39e",
     "locked": true,
     "schema_version": 1,
     "solution": false
    }
   },
   "source": [
    "Now solve the BVP. The `verbose` keyword gives some additional output. Remove or set it to 0 to get rid of the output."
   ]
  },
  {
   "cell_type": "code",
   "execution_count": 11,
   "metadata": {},
   "outputs": [
    {
     "name": "stdout",
     "output_type": "stream",
     "text": [
      "   Iteration    Max residual  Max BC residual  Total nodes    Nodes added  \n",
      "       1          1.05e-04       0.00e+00           5              0       \n",
      "Solved in 1 iterations, number of nodes 5. \n",
      "Maximum relative residual: 1.05e-04 \n",
      "Maximum boundary residual: 0.00e+00\n"
     ]
    }
   ],
   "source": [
    "from scipy.integrate import solve_bvp\n",
    "\n",
    "sol = solve_bvp(derivatives, bc, x, y, verbose = 2)"
   ]
  },
  {
   "cell_type": "markdown",
   "metadata": {
    "deletable": false,
    "editable": false,
    "nbgrader": {
     "checksum": "037e696d1fe18e9ec71f8c3b3fa6fbd4",
     "grade": false,
     "grade_id": "cell-d761f7c27225e1af",
     "locked": true,
     "schema_version": 1,
     "solution": false
    }
   },
   "source": [
    "### What `solve_bvp` returns\n",
    "\n",
    "Printing the return value of `solve_bvp` (in this case `sol`) shows a complicate object with multiple components."
   ]
  },
  {
   "cell_type": "code",
   "execution_count": 12,
   "metadata": {},
   "outputs": [
    {
     "name": "stdout",
     "output_type": "stream",
     "text": [
      "       message: 'The algorithm converged to the desired accuracy.'\n",
      "         niter: 1\n",
      "             p: None\n",
      " rms_residuals: array([9.86500717e-05, 1.05360602e-04, 1.05360602e-04, 9.86500717e-05])\n",
      "           sol: <scipy.interpolate.interpolate.PPoly object at 0x15229e09b0>\n",
      "        status: 0\n",
      "       success: True\n",
      "             x: array([0.  , 0.25, 0.5 , 0.75, 1.  ])\n",
      "             y: array([[ 0.00000000e+00,  1.04784145e-01,  1.40534773e-01,\n",
      "         1.04784145e-01,  0.00000000e+00],\n",
      "       [ 5.49349275e-01,  2.84320977e-01, -1.02436237e-17,\n",
      "        -2.84320977e-01, -5.49349275e-01]])\n",
      "            yp: array([[ 5.49349275e-01,  2.84320977e-01, -1.02436237e-17,\n",
      "        -2.84320977e-01, -5.49349275e-01],\n",
      "       [-1.00000000e+00, -1.11047088e+00, -1.15088910e+00,\n",
      "        -1.11047088e+00, -1.00000000e+00]])\n"
     ]
    }
   ],
   "source": [
    "print(sol)"
   ]
  },
  {
   "cell_type": "markdown",
   "metadata": {
    "deletable": false,
    "editable": false,
    "nbgrader": {
     "checksum": "aec61a76424dd7b839bd085437ffcc62",
     "grade": false,
     "grade_id": "cell-e814077907fad726",
     "locked": true,
     "schema_version": 1,
     "solution": false
    }
   },
   "source": [
    "The most important thing returned is the `sol` attribute of the return value (in this case `sol.sol`). This is a function that will return the value of the solution for given $x$ values.\n",
    "\n",
    "Note, a similar object is returned for `solve_ivp` when the `dense_output=True` keyword is given."
   ]
  },
  {
   "cell_type": "code",
   "execution_count": 13,
   "metadata": {},
   "outputs": [
    {
     "data": {
      "text/plain": [
       "[<matplotlib.lines.Line2D at 0x1822e844d0>]"
      ]
     },
     "execution_count": 13,
     "metadata": {},
     "output_type": "execute_result"
    },
    {
     "data": {
      "image/png": "[encoded data removed]",
      "text/plain": [
       "<Figure size 720x432 with 1 Axes>"
      ]
     },
     "metadata": {
      "needs_background": "light"
     },
     "output_type": "display_data"
    }
   ],
   "source": [
    "x_sol = np.linspace(0, 1, 100)\n",
    "y_sol = sol.sol(x_sol)\n",
    "# sol.sol return values for the whole system [f(x), df/dx]\n",
    "plt.plot(x_sol, y_sol[0])"
   ]
  },
  {
   "cell_type": "markdown",
   "metadata": {
    "deletable": false,
    "editable": false,
    "nbgrader": {
     "checksum": "522de9c019b984a8aa3d876b2f74d154",
     "grade": false,
     "grade_id": "cell-567be87b1d3fcbc8",
     "locked": true,
     "schema_version": 1,
     "solution": false
    }
   },
   "source": [
    "The Bratu problem has two solutions. The second can be found by changing the initial guess slightly."
   ]
  },
  {
   "cell_type": "code",
   "execution_count": 14,
   "metadata": {},
   "outputs": [],
   "source": [
    "# start with all zeroes\n",
    "y = np.zeros((2, x.size))\n",
    "# small change in initial guess\n",
    "y[0] = 3"
   ]
  },
  {
   "cell_type": "markdown",
   "metadata": {
    "deletable": false,
    "editable": false,
    "nbgrader": {
     "checksum": "1e52f2dbccb132e7257f1fa7b642cf73",
     "grade": false,
     "grade_id": "cell-be800c616ac5b2be",
     "locked": true,
     "schema_version": 1,
     "solution": false
    }
   },
   "source": [
    "Now, solve the BVP again, compare the output and plot the two solutions."
   ]
  },
  {
   "cell_type": "code",
   "execution_count": 22,
   "metadata": {},
   "outputs": [],
   "source": [
    "x = np.linspace(0, 1, 10)\n",
    "# start with all zeroes\n",
    "y = np.zeros((2, x.size))\n",
    "from scipy.integrate import solve_bvp\n",
    "\n",
    "sol = solve_bvp(derivatives, bc, x, y,)"
   ]
  },
  {
   "cell_type": "code",
   "execution_count": 23,
   "metadata": {},
   "outputs": [
    {
     "data": {
      "text/plain": [
       "[<matplotlib.lines.Line2D at 0x1823108090>]"
      ]
     },
     "execution_count": 23,
     "metadata": {},
     "output_type": "execute_result"
    },
    {
     "data": {
      "image/png": "[encoded data removed]",
      "text/plain": [
       "<Figure size 720x432 with 1 Axes>"
      ]
     },
     "metadata": {
      "needs_background": "light"
     },
     "output_type": "display_data"
    }
   ],
   "source": [
    "x_sol = np.linspace(0, 1, 100)\n",
    "y_sol = sol.sol(x_sol)\n",
    "# sol.sol return values for the whole system [f(x), df/dx]\n",
    "plt.plot(x_sol, y_sol[0])"
   ]
  },
  {
   "cell_type": "markdown",
   "metadata": {
    "deletable": false,
    "editable": false,
    "nbgrader": {
     "checksum": "1efbc78d61ea8639a934412e1b2920f7",
     "grade": false,
     "grade_id": "cell-ef06200a235fe8e3",
     "locked": true,
     "schema_version": 1,
     "solution": false
    }
   },
   "source": [
    "### Heat Exchanger Problem\n",
    "(from the old bvp_solver tutorial)\n",
    "\n",
    "Consider a device where heat is exchanged between two fluids. The hot fluid (with temperature $T_1$) enters from the left, moving to the right. The cold fluid (with temperature $T_2$) enters from the right, moving to the left. They exchange heat through a metal plate in between them. The cold fluid has twice the specific heat of the hot fluid. This system can be expressed as\n",
    "\n",
    "$\n",
    "\\begin{align}\n",
    "\\large\n",
    "q = U * (T_1 - T_2)\n",
    "\\end{align}\n",
    "$\n",
    "\n",
    "$\n",
    "\\begin{align}\n",
    "\\large\n",
    "\\frac{dT_1}{dx} = -q\n",
    "\\end{align}\n",
    "$\n",
    "\n",
    "$\n",
    "\\begin{align}\n",
    "\\large\n",
    "\\frac{dT_2}{dx} = \\frac{-q}{2}\n",
    "\\end{align}\n",
    "$\n",
    "\n",
    "where $U$ is a coefficient of heat transfer.\n",
    "\n",
    "The temperatures of the hot and cold fluids when they enter the device are known.\n",
    "\n",
    "$\n",
    "\\begin{align}\n",
    "\\large\n",
    "T_1(x = 0) = 200\n",
    "\\end{align}\n",
    "$\n",
    "\n",
    "$\n",
    "\\begin{align}\n",
    "\\large\n",
    "T_2(x = L) = 50\n",
    "\\end{align}\n",
    "$\n",
    "\n",
    "Relevant constants are given below."
   ]
  },
  {
   "cell_type": "code",
   "execution_count": 17,
   "metadata": {},
   "outputs": [],
   "source": [
    "T1_0 = 200\n",
    "T2_L = 50\n",
    "L = 5\n",
    "U = 1"
   ]
  },
  {
   "cell_type": "markdown",
   "metadata": {
    "deletable": false,
    "editable": false,
    "nbgrader": {
     "checksum": "581b9d5a16a0e6fe141ffbd15cf4e9de",
     "grade": false,
     "grade_id": "cell-a86d19f21aef68ad",
     "locked": true,
     "schema_version": 1,
     "solution": false
    }
   },
   "source": [
    "Implement the derivatives and bounary conditions functions that describe this system."
   ]
  },
  {
   "cell_type": "code",
   "execution_count": 18,
   "metadata": {
    "deletable": false,
    "nbgrader": {
     "checksum": "d4d9f80a6a072fb9c62db3b52bbf62a4",
     "grade": false,
     "grade_id": "cell-9d9065116e040d8f",
     "locked": false,
     "schema_version": 1,
     "solution": true
    }
   },
   "outputs": [],
   "source": [
    "def derivatives(x , y):\n",
    "    \"\"\"\n",
    "    y[0] is T_1\n",
    "    y[1] is T_2\n",
    "    \"\"\"\n",
    "    q = U * (y[0] - y[1])\n",
    "    return np.vstack((- q, - q / 2))\n",
    "    \n",
    "    \n",
    "def bc(ya, yb):\n",
    "    \"\"\"\n",
    "    ya is [T1, T2] on the left\n",
    "    yb is [T1, T2] on the right\n",
    "    \"\"\"\n",
    "    return np.array([ya[0]-200, yb[0]-50])\n",
    "    "
   ]
  },
  {
   "cell_type": "code",
   "execution_count": 19,
   "metadata": {},
   "outputs": [
    {
     "data": {
      "text/plain": [
       "(2, 10)"
      ]
     },
     "execution_count": 19,
     "metadata": {},
     "output_type": "execute_result"
    }
   ],
   "source": [
    "derivatives(x, y).shape"
   ]
  },
  {
   "cell_type": "markdown",
   "metadata": {
    "deletable": false,
    "editable": false,
    "nbgrader": {
     "checksum": "cf183cb5673550984fe6318a82c3c78b",
     "grade": false,
     "grade_id": "cell-17e7861a1f247edb",
     "locked": true,
     "schema_version": 1,
     "solution": false
    }
   },
   "source": [
    "Set an initial guess for the solution. Try $T_1(x) = T_1(0)$ and $T_2(x) = T_2(L)$."
   ]
  },
  {
   "cell_type": "code",
   "execution_count": 20,
   "metadata": {
    "deletable": false,
    "nbgrader": {
     "checksum": "6822786c982c2ac00966ee35ad353108",
     "grade": false,
     "grade_id": "cell-4aed594b59d2500f",
     "locked": false,
     "schema_version": 1,
     "solution": true
    }
   },
   "outputs": [],
   "source": [
    "x = np.linspace(0, L, 10)\n",
    "y = np.empty([2, x.size])\n",
    "y[0] = T1_0\n",
    "y[1] = T2_L"
   ]
  },
  {
   "cell_type": "markdown",
   "metadata": {},
   "source": [
    "Now find the solution and plot $T_1(x)$ and $T_2(x)$."
   ]
  },
  {
   "cell_type": "code",
   "execution_count": 21,
   "metadata": {
    "deletable": false,
    "nbgrader": {
     "checksum": "f059d1a8b6302c11c2dd7c6f0c1b3c12",
     "grade": false,
     "grade_id": "cell-fc2a5eef3c665caa",
     "locked": false,
     "schema_version": 1,
     "solution": true
    }
   },
   "outputs": [
    {
     "data": {
      "text/plain": [
       "[<matplotlib.lines.Line2D at 0x11078cd50>]"
      ]
     },
     "execution_count": 21,
     "metadata": {},
     "output_type": "execute_result"
    },
    {
     "data": {
      "image/png": "[encoded data removed]",
      "text/plain": [
       "<Figure size 720x432 with 1 Axes>"
      ]
     },
     "metadata": {
      "needs_background": "light"
     },
     "output_type": "display_data"
    }
   ],
   "source": [
    "sol = solve_bvp(derivatives, bc, x, y,)\n",
    "x_sol = np.linspace(0, L, 100)\n",
    "y_sol = sol.sol(x_sol)\n",
    "plt.plot(x_sol, y_sol[0])\n",
    "plt.plot(x_sol, y_sol[1])"
   ]
  },
  {
   "cell_type": "markdown",
   "metadata": {
    "deletable": false,
    "editable": false,
    "nbgrader": {
     "checksum": "be5c9f9038f3e025f25525e00eaa1eb5",
     "grade": false,
     "grade_id": "cell-b676140ed70d6f09",
     "locked": true,
     "schema_version": 1,
     "solution": false
    }
   },
   "source": [
    "## Minimization\n",
    "\n",
    "The [scipy.optimize](https://docs.scipy.org/doc/scipy/reference/optimize.html) module provides a number of options for finding function minima and maxima. The most relevant to our purposes is [minimize_scalar](https://docs.scipy.org/doc/scipy/reference/generated/scipy.optimize.minimize_scalar.html#scipy.optimize.minimize_scalar).\n",
    "\n",
    "Study the documentation of `minimize_scalar` and use it to find all local minima of the function below in the range [-10, 10]. Plot $f(x)$ to gain some intuition. Is there a more informative way to plot $f(x)$?"
   ]
  },
  {
   "cell_type": "code",
   "execution_count": 20,
   "metadata": {},
   "outputs": [],
   "source": [
    "def f(x):\n",
    "    return (x - 4*np.euler_gamma) * 0.5 * x * (x + np.e)**2 - 5*np.sin(3*x) + 11"
   ]
  },
  {
   "cell_type": "code",
   "execution_count": 21,
   "metadata": {},
   "outputs": [],
   "source": [
    "from scipy.optimize import minimize_scalar"
   ]
  },
  {
   "cell_type": "code",
   "execution_count": 22,
   "metadata": {},
   "outputs": [
    {
     "data": {
      "text/plain": [
       "[<matplotlib.lines.Line2D at 0x1078afa10>]"
      ]
     },
     "execution_count": 22,
     "metadata": {},
     "output_type": "execute_result"
    },
    {
     "data": {
      "image/png": "[encoded data removed]",
      "text/plain": [
       "<Figure size 720x432 with 1 Axes>"
      ]
     },
     "metadata": {
      "needs_background": "light"
     },
     "output_type": "display_data"
    }
   ],
   "source": [
    "x = np.arange(-10, 10, 0.1)\n",
    "y = f(x)\n",
    "#plt.ylim(0,100)\n",
    "plt.semilogy(x,y)\n",
    "#plt.plot(x,y)"
   ]
  },
  {
   "cell_type": "code",
   "execution_count": 23,
   "metadata": {},
   "outputs": [
    {
     "name": "stdout",
     "output_type": "stream",
     "text": [
      "[-1.65627449 -3.3207098   0.73763619]\n"
     ]
    }
   ],
   "source": [
    "res = minimize_scalar(f, method = 'Brent', bracket = (-10, 0, 10))\n",
    "sol_1 = res.x\n",
    "res = minimize_scalar(f, method = 'Brent', bracket = (-5, -3, -2.5))\n",
    "sol_2 = res.x\n",
    "res = minimize_scalar(f, method = 'Brent', bracket = (0, 1, 2.5))\n",
    "sol_3 = res.x\n",
    "sol = np.array([sol_1, sol_2, sol_3])\n",
    "print(sol)"
   ]
  },
  {
   "cell_type": "code",
   "execution_count": null,
   "metadata": {},
   "outputs": [],
   "source": []
  },
  {
   "cell_type": "code",
   "execution_count": null,
   "metadata": {},
   "outputs": [],
   "source": []
  }
 ],
 "metadata": {
  "kernelspec": {
   "display_name": "Python 3",
   "language": "python",
   "name": "python3"
  },
  "language_info": {
   "codemirror_mode": {
    "name": "ipython",
    "version": 3
   },
   "file_extension": ".py",
   "mimetype": "text/x-python",
   "name": "python",
   "nbconvert_exporter": "python",
   "pygments_lexer": "ipython3",
   "version": "3.7.4"
  }
 },
 "nbformat": 4,
 "nbformat_minor": 2
}
