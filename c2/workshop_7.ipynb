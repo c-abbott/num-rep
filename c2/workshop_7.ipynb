{
 "cells": [
  {
   "cell_type": "markdown",
   "metadata": {
    "deletable": false,
    "editable": false,
    "nbgrader": {
     "checksum": "79b768477831f731fcd347347f975d2a",
     "grade": false,
     "grade_id": "cell-1a95c76c0eaa84f5",
     "locked": true,
     "schema_version": 1,
     "solution": false
    }
   },
   "source": [
    "# Numerical Recipes Workshop 7\n",
    "For the week of 4-8 November, 2019\n",
    "\n",
    "This notebook will cover Monte Carlo error estimation."
   ]
  },
  {
   "cell_type": "code",
   "execution_count": 1,
   "metadata": {
    "deletable": false,
    "editable": false,
    "nbgrader": {
     "checksum": "49af2b379df63b8a5c8ba7aabd894c19",
     "grade": false,
     "grade_id": "cell-eb6bda9ca3ee805a",
     "locked": true,
     "schema_version": 1,
     "solution": false
    }
   },
   "outputs": [],
   "source": [
    "from matplotlib import pyplot as plt\n",
    "%matplotlib inline\n",
    "import numpy as np\n",
    "from scipy.integrate import solve_ivp"
   ]
  },
  {
   "cell_type": "code",
   "execution_count": 2,
   "metadata": {
    "deletable": false,
    "editable": false,
    "nbgrader": {
     "checksum": "5f926388047a3d45eea0f58f26564780",
     "grade": false,
     "grade_id": "cell-db748cfa06d190f5",
     "locked": true,
     "schema_version": 1,
     "solution": false
    }
   },
   "outputs": [],
   "source": [
    "plt.rcParams['figure.figsize'] = (10, 6)\n",
    "plt.rcParams['font.size'] = 14"
   ]
  },
  {
   "cell_type": "markdown",
   "metadata": {
    "deletable": false,
    "editable": false,
    "nbgrader": {
     "checksum": "ba5d11bb67b3f3b9bb9b5cfc42fd6c27",
     "grade": false,
     "grade_id": "cell-a1e7c1596070f164",
     "locked": true,
     "schema_version": 1,
     "solution": false
    }
   },
   "source": [
    "## Estimating baseball travel distances\n",
    "\n",
    "Previously, in workshop 4, you calculated the distance traveled by a baseball hit with a given launch angle and exit velocity. Now, let's assume that baseballs are hit with a distribution of launch angles and exit velocities. We will use this information to calculate the distribution of travel distances. Below are the relevant constants and functions for integrating baseball flight paths. Note, we have changed the criterion for balls landing to when they hit the ground as opposed to landing on the outfield wall."
   ]
  },
  {
   "cell_type": "code",
   "execution_count": 5,
   "metadata": {},
   "outputs": [],
   "source": [
    "## Constants\n",
    "# baseballs\n",
    "m = 0.145 # kg\n",
    "c = 23.2 # cm\n",
    "r = c / 2 / np.pi\n",
    "A = np.pi * (r)**2 / 10000 # m^2\n",
    "Cd = 0.346\n",
    "\n",
    "# Earth-related constants\n",
    "rhoE = 1.19657921 # kg/m^3\n",
    "g = 9.80665 # m/s^2"
   ]
  },
  {
   "cell_type": "code",
   "execution_count": 6,
   "metadata": {},
   "outputs": [],
   "source": [
    "def baseball_flight(t, f):\n",
    "    \"\"\"\n",
    "    f0 = x  => dx/dt  = vx\n",
    "    f1 = y  => dy/dt  = vy\n",
    "    f2 = vx => dvx/dt = Fdx / m\n",
    "    f3 = vy => dvy/dt = Fdy / m - g\n",
    "    \"\"\"\n",
    "\n",
    "    vals = np.zeros(4)\n",
    "    vals[0] = f[2]\n",
    "    vals[1] = f[3]\n",
    "\n",
    "    # drag force\n",
    "    v2 = f[2]**2 + f[3]**2\n",
    "    Fd = 0.5 * Cd * A * rhoE * v2\n",
    "\n",
    "    xhat = f[2] / np.sqrt(v2)\n",
    "    yhat = f[3] / np.sqrt(v2)\n",
    "    vals[2] = -xhat * Fd / m\n",
    "    vals[3] = -yhat * Fd / m - g\n",
    "\n",
    "    return vals\n",
    "\n",
    "def ball_lands(t, f):\n",
    "    return f[1]\n",
    "ball_lands.terminal = True\n",
    "ball_lands.direction = -1"
   ]
  },
  {
   "cell_type": "markdown",
   "metadata": {
    "deletable": false,
    "editable": false,
    "nbgrader": {
     "checksum": "e6ec4cd9b7f1f008fd3f84fa817615b8",
     "grade": false,
     "grade_id": "cell-24ed8625c61210b9",
     "locked": true,
     "schema_version": 1,
     "solution": false
    }
   },
   "source": [
    "### Launch angle and exit velocity distributions\n",
    "\n",
    "Below are reasonable approximations to angle and velocity distributions for hit baseballs.\n",
    "\n",
    "* **launch angles**: assume a normal distribution with a mean of 17 degrees with a standard deviation of 5 degrees. (This is not actually reasonable, but go with it for now.)\n",
    "* **exit velocities**: assume a normal distribution with a mean of 100 mph (\\~45 m/s) with a standard deviation of 6 mph (\\~2.7 m/s).\n",
    "\n",
    "Use the Monte Carlo method to calculate the distance distribution. You will first need to construct random samples of angles and velocities, these use these to calculate to simulate baseball paths.\n",
    "\n",
    "Below is a function that can be used to calculate the travel distance for a single exit velocity and launch angle."
   ]
  },
  {
   "cell_type": "code",
   "execution_count": 34,
   "metadata": {},
   "outputs": [
    {
     "data": {
      "image/png": "[encoded data removed]",
      "text/plain": [
       "<Figure size 720x432 with 1 Axes>"
      ]
     },
     "metadata": {
      "needs_background": "light"
     },
     "output_type": "display_data"
    }
   ],
   "source": [
    "def baseball_travel_distance(velocity, angle):\n",
    "    \"\"\"\n",
    "    Parameters\n",
    "    ----------\n",
    "    velocity: float\n",
    "        Exit velocity in m/s.\n",
    "    angle: float\n",
    "        Launch angle in degrees.\n",
    "        \n",
    "    Returns\n",
    "    -------\n",
    "    distance: float\n",
    "        Total x displacement after hitting the ground in meters.\n",
    "        If ball does not hit the ground in 10 seconds, return NaN.\n",
    "    \"\"\"\n",
    "\n",
    "    vxi = velocity * np.cos(angle * np.pi / 180)\n",
    "    vyi = velocity * np.sin(angle * np.pi / 180)\n",
    "    fi = np.array([0., 1., vxi, vyi])\n",
    "\n",
    "    sol = solve_ivp(baseball_flight, (0, 10), fi, events=(ball_lands), dense_output=True)\n",
    "    if sol.t_events[0].size < 1:\n",
    "        return np.nan\n",
    "    else:\n",
    "        return sol.sol(sol.t_events[0])[0][0]\n",
    "    \n",
    "def get_distances():\n",
    "    samples = 1000\n",
    "    distances = []\n",
    "    y = []\n",
    "    for i in range(samples):\n",
    "        ini_theta = np.random.normal(17, scale = 5)\n",
    "        ini_v = np.random.normal(loc = 45, scale = 2.7)\n",
    "        distances.append(baseball_travel_distance(ini_v, ini_theta))\n",
    "        \n",
    "    plt.title('Baseball Hit Ranges')\n",
    "    plt.xlabel('Distance (m)')\n",
    "    plt.ylabel('Frequency')\n",
    "    plt.hist(distances, bins = 30, density = True)\n",
    "    plt.plot()\n",
    "get_distances() \n",
    "\n",
    "def my_gaussian(x, mu=0, sigma=1):\n",
    "    y = 1/np.sqrt((2*np.pi*(sigma)**2))*np.exp(-(x-mu)**2/(2*(sigma)**2))\n",
    "    return y\n"
   ]
  },
  {
   "cell_type": "markdown",
   "metadata": {
    "deletable": false,
    "editable": false,
    "nbgrader": {
     "checksum": "4f3d60f2be1294bd5ed04f5cadb456f4",
     "grade": false,
     "grade_id": "cell-2206d46ba21157fa",
     "locked": true,
     "schema_version": 1,
     "solution": false
    }
   },
   "source": [
    "### Estimating distance distribution with the Monte-Carlo method\n",
    "\n",
    "Now, use the random angle and velocity samples to perform a few thousand simulations. Plot histograms of the distributions of angle, velocity, and distance. Calculate the coefficients of variation (standard deviation divided by the mean) for each distribution. Overplot an appropriately configured Gaussian curve. How well does the distance distribution fit the curve?"
   ]
  },
  {
   "cell_type": "code",
   "execution_count": 35,
   "metadata": {
    "deletable": false,
    "nbgrader": {
     "checksum": "713c819d8efe81d2874ce7ce027c7154",
     "grade": false,
     "grade_id": "cell-6cb9e99667b81098",
     "locked": false,
     "schema_version": 1,
     "solution": true
    }
   },
   "outputs": [
    {
     "name": "stdout",
     "output_type": "stream",
     "text": [
      "angles cov is:  0.28016441394487884\n",
      "velocities cov is:  0.060289779219089984\n",
      "distances cov is:  0.18608627790290985\n"
     ]
    },
    {
     "data": {
      "image/png": "[encoded data removed]",
      "text/plain": [
       "<Figure size 720x432 with 1 Axes>"
      ]
     },
     "metadata": {
      "needs_background": "light"
     },
     "output_type": "display_data"
    }
   ],
   "source": [
    "def monte_carlo():\n",
    "    samples = 1000\n",
    "    distances = np.zeros(samples)\n",
    "    velocities = np.zeros(samples)\n",
    "    angles = np.zeros(samples)\n",
    "    for i in range(samples):\n",
    "        angles[i] = np.random.normal(17, scale = 5)\n",
    "        velocities[i] = np.random.normal(loc = 45, scale = 2.7)\n",
    "        distances[i] = baseball_travel_distance(velocities[i], angles[i])\n",
    "    cov_angles = np.std(angles) / np.mean(angles)\n",
    "    cov_velocities = np.std(velocities) / np.mean(velocities)\n",
    "    cov_distances = np.std(distances) / np.mean(distances)\n",
    "    print(\"angles cov is: \", cov_angles)\n",
    "    print(\"velocities cov is: \", cov_velocities)\n",
    "    print(\"distances cov is: \", cov_distances)\n",
    "    \n",
    "    plt.title('Baseball Hit Ranges')\n",
    "    plt.xlabel('Distance (m)')\n",
    "    plt.ylabel('Frequency')\n",
    "    plt.hist(angles, bins = 30, label = 'angles')\n",
    "    \n",
    "    plt.title('Baseball Hit Ranges')\n",
    "    plt.xlabel('Distance (m)')\n",
    "    plt.ylabel('Frequency')\n",
    "    plt.hist(velocities, bins = 30, label = 'velocities')\n",
    "    \n",
    "    plt.title('Baseball Hit Ranges')\n",
    "    plt.xlabel('Distance (m)')\n",
    "    plt.ylabel('Frequency')\n",
    "    plt.hist(distances, bins = 30, label = 'distances')\n",
    "    plt.legend()\n",
    "monte_carlo()\n",
    "    \n",
    "    "
   ]
  },
  {
   "cell_type": "markdown",
   "metadata": {
    "deletable": false,
    "editable": false,
    "nbgrader": {
     "checksum": "e472df5e7c3e7e5a25ea14aee998a10f",
     "grade": false,
     "grade_id": "cell-f120f1a468e2b131",
     "locked": true,
     "schema_version": 1,
     "solution": false
    }
   },
   "source": [
    "In reality, the standard deviation of the launch angle distribution is closer to about 21 degrees. Perform a new set of simulations with this angle distribution. How does this affect the distribution of distances?"
   ]
  },
  {
   "cell_type": "code",
   "execution_count": null,
   "metadata": {},
   "outputs": [],
   "source": []
  }
 ],
 "metadata": {
  "kernelspec": {
   "display_name": "Python 3",
   "language": "python",
   "name": "python3"
  },
  "language_info": {
   "codemirror_mode": {
    "name": "ipython",
    "version": 3
   },
   "file_extension": ".py",
   "mimetype": "text/x-python",
   "name": "python",
   "nbconvert_exporter": "python",
   "pygments_lexer": "ipython3",
   "version": "3.7.4"
  }
 },
 "nbformat": 4,
 "nbformat_minor": 2
}
