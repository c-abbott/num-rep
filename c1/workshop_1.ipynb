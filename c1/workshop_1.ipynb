{
 "cells": [
  {
   "cell_type": "markdown",
   "metadata": {
    "deletable": false,
    "editable": false,
    "nbgrader": {
     "checksum": "f8b206a5348166ebf30c8c9c755a7982",
     "grade": false,
     "grade_id": "cell-d539d4764d26a3c3",
     "locked": true,
     "schema_version": 1,
     "solution": false
    }
   },
   "source": [
    "# Numerical Recipes Workshop 1\n",
    "For the week of 23-27 September, 2019\n",
    "\n",
    "These activities will start with a small Python/NumPy refresher and then cover some things related to lectures 1/2 and the first part of Checkpoint 1.\n",
    "\n",
    "**Please hand in your notebook via Noteable at the end of the workshop.**\n",
    "\n",
    "They will not be graded and you will not receive feedback on them, but we want to test the submission process to make sure it's working for the checkpoints.\n",
    "\n",
    "Please spend the first hour of the workshop with this notebook before starting on the checkpoint. **TAs will not answer questions about the checkpoints until the second hour of the workshop.**"
   ]
  },
  {
   "cell_type": "markdown",
   "metadata": {
    "deletable": false,
    "editable": false,
    "nbgrader": {
     "checksum": "17cb08627df485ca42e8aa68316eea18",
     "grade": false,
     "grade_id": "cell-145213474bac13bd",
     "locked": true,
     "schema_version": 1,
     "solution": false
    }
   },
   "source": [
    "## Documentation\n",
    "* Python: https://docs.python.org/3.7/\n",
    "* NumPy: https://numpy.org/doc/1.17/user/index.html\n",
    "* SciPy: https://docs.scipy.org/doc/scipy/reference/\n",
    "* matplotlib: https://matplotlib.org/3.1.0/index.html\n",
    "\n",
    "Advice: google is really helpful (e.g. \"numpy trapezoid rule\")"
   ]
  },
  {
   "cell_type": "markdown",
   "metadata": {
    "deletable": false,
    "editable": false,
    "nbgrader": {
     "checksum": "a554213c206206d6109d1a5fc5861205",
     "grade": false,
     "grade_id": "cell-040323190d92ea45",
     "locked": true,
     "schema_version": 1,
     "solution": false
    }
   },
   "source": [
    "## Python/package Versions\n",
    "\n",
    "It's good to know what versions of Python and various packages you're using. Answers can be different or known bugs may exist in specific versions.\n",
    "\n",
    "Use sys package for Python version. Most external packages have a `__version__` attribute associated with the top level import."
   ]
  },
  {
   "cell_type": "code",
   "execution_count": 1,
   "metadata": {},
   "outputs": [
    {
     "name": "stdout",
     "output_type": "stream",
     "text": [
      "3.7.3 | packaged by conda-forge | (default, Mar 27 2019, 23:01:00) \n",
      "[GCC 7.3.0]\n",
      "1.3.1\n"
     ]
    }
   ],
   "source": [
    "# Python version\n",
    "import sys\n",
    "print(sys.version)\n",
    "# Scipy version\n",
    "import scipy\n",
    "print(scipy.__version__)\n",
    "# Try numpy and matplotlib"
   ]
  },
  {
   "cell_type": "markdown",
   "metadata": {
    "deletable": false,
    "editable": false,
    "nbgrader": {
     "checksum": "8610a64135da418e2b7394ae50f463cf",
     "grade": false,
     "grade_id": "cell-464564c5c460e773",
     "locked": true,
     "schema_version": 1,
     "solution": false
    }
   },
   "source": [
    "## The two most useful functions in Python\n",
    "* `dir` - list all names (variables, functions, etc) in the given scope, i.e., what's in here? Try the following:\n",
    "```\n",
    "# top level name space\n",
    "dir()\n",
    "x = 1\n",
    "dir()\n",
    "```\n",
    "```\n",
    "import sys\n",
    "# contents of the sys module\n",
    "dir(sys)\n",
    "```\n",
    "\n",
    "* `help` - show documentation for a function or object.\n",
    "```\n",
    "import numpy as np\n",
    "help(np.sum)\n",
    "```\n",
    "\n",
    "#### Use `dir` to see what's in the NumPy module. Pick a random function and see what it does."
   ]
  },
  {
   "cell_type": "code",
   "execution_count": 17,
   "metadata": {},
   "outputs": [
    {
     "name": "stdout",
     "output_type": "stream",
     "text": [
      "Help on class iinfo in module numpy:\n",
      "\n",
      "class iinfo(builtins.object)\n",
      " |  iinfo(int_type)\n",
      " |  \n",
      " |  iinfo(type)\n",
      " |  \n",
      " |  Machine limits for integer types.\n",
      " |  \n",
      " |  Attributes\n",
      " |  ----------\n",
      " |  bits : int\n",
      " |      The number of bits occupied by the type.\n",
      " |  min : int\n",
      " |      The smallest integer expressible by the type.\n",
      " |  max : int\n",
      " |      The largest integer expressible by the type.\n",
      " |  \n",
      " |  Parameters\n",
      " |  ----------\n",
      " |  int_type : integer type, dtype, or instance\n",
      " |      The kind of integer data type to get information about.\n",
      " |  \n",
      " |  See Also\n",
      " |  --------\n",
      " |  finfo : The equivalent for floating point data types.\n",
      " |  \n",
      " |  Examples\n",
      " |  --------\n",
      " |  With types:\n",
      " |  \n",
      " |  >>> ii16 = np.iinfo(np.int16)\n",
      " |  >>> ii16.min\n",
      " |  -32768\n",
      " |  >>> ii16.max\n",
      " |  32767\n",
      " |  >>> ii32 = np.iinfo(np.int32)\n",
      " |  >>> ii32.min\n",
      " |  -2147483648\n",
      " |  >>> ii32.max\n",
      " |  2147483647\n",
      " |  \n",
      " |  With instances:\n",
      " |  \n",
      " |  >>> ii32 = np.iinfo(np.int32(10))\n",
      " |  >>> ii32.min\n",
      " |  -2147483648\n",
      " |  >>> ii32.max\n",
      " |  2147483647\n",
      " |  \n",
      " |  Methods defined here:\n",
      " |  \n",
      " |  __init__(self, int_type)\n",
      " |      Initialize self.  See help(type(self)) for accurate signature.\n",
      " |  \n",
      " |  __repr__(self)\n",
      " |      Return repr(self).\n",
      " |  \n",
      " |  __str__(self)\n",
      " |      String representation.\n",
      " |  \n",
      " |  ----------------------------------------------------------------------\n",
      " |  Data descriptors defined here:\n",
      " |  \n",
      " |  __dict__\n",
      " |      dictionary for instance variables (if defined)\n",
      " |  \n",
      " |  __weakref__\n",
      " |      list of weak references to the object (if defined)\n",
      " |  \n",
      " |  max\n",
      " |      Maximum value of given dtype.\n",
      " |  \n",
      " |  min\n",
      " |      Minimum value of given dtype.\n",
      "\n"
     ]
    }
   ],
   "source": [
    "import numpy as np\n",
    "dir(np)\n",
    "help(np.iinfo)"
   ]
  },
  {
   "cell_type": "markdown",
   "metadata": {
    "deletable": false,
    "editable": false,
    "nbgrader": {
     "checksum": "f4ca728a6b81b01a87145b5bd86d7d2a",
     "grade": false,
     "grade_id": "cell-a8fa2434d055758a",
     "locked": true,
     "schema_version": 1,
     "solution": false
    }
   },
   "source": [
    "## Best Practices\n",
    "\n",
    "* Put module imports at the top in the first code cell.\n",
    "* Rename modules to keep names short.\n",
    "```\n",
    "# Too long!\n",
    "import numpy\n",
    "x = numpy.arange(10)\n",
    "```\n",
    "```\n",
    "# Much better\n",
    "import numpy as np\n",
    "x = np.arange(10)\n",
    "```\n",
    "* Don't do `from MODULE import *`. Every available object will be in your namespace.\n",
    "```\n",
    "from scipy import *\n",
    "dir() # aaah!\n",
    "```\n",
    "* Be careful with variable names. Just about everything can be overwritten.\n",
    "```\n",
    "dir = 5\n",
    "dir()\n",
    "# The dir function is now lost. Doom.\n",
    "```\n",
    "* Use tab completion to recall function/object names. Start typing something and hit the [tab] key a couple times to bring up a menu of matching options. Use this in the terminal, too. Don't waste time typing long names.\n",
    "```\n",
    "np.su[tab][tab]\n",
    "```\n",
    "* If things are getting messy, restart the kernel using one of the *Restart* commands in the *Kernel* menu. This will reset your session, removing bad imports and extra variables.\n",
    "* Cell taking too long to run? From *Kernel* menu, click *Interrupt* to stop execution. Have a look at the traceback to see where the code was. This can give a hint as to why it's taking so long.\n",
    "* Keep it neat. Someone is most likely going to have to read your code someday. It should look nice, be clear, and conform to the style of code that was already there.\n",
    "\n",
    "### Plotting tips\n",
    "* add `%matplotlib inline` your import cell to get plots to show up in the notebook\n",
    "```\n",
    "from matplotlib import pyplot as plt\n",
    "%matplotlib inline\n",
    "```\n",
    "* add the following in a separate cell to make defautl plot and font sizes bigger\n",
    "```\n",
    "pyplot.rcParams['figure.figsize'] = (10, 6) # inches\n",
    "pyplot.rcParams['font.size'] = 14\n",
    "```"
   ]
  },
  {
   "cell_type": "markdown",
   "metadata": {
    "deletable": false,
    "editable": false,
    "nbgrader": {
     "checksum": "d67a696126fccae3245c0021e1fb6221",
     "grade": false,
     "grade_id": "cell-cd5ddbc036063707",
     "locked": true,
     "schema_version": 1,
     "solution": false
    }
   },
   "source": [
    "# Activities"
   ]
  },
  {
   "cell_type": "markdown",
   "metadata": {
    "deletable": false,
    "editable": false,
    "nbgrader": {
     "checksum": "bc25939b9c57e13ec2005c53e9a646c1",
     "grade": false,
     "grade_id": "cell-beb45e2516cbe3cf",
     "locked": true,
     "schema_version": 1,
     "solution": false
    }
   },
   "source": [
    "## Integer and floating point precision\n",
    "Not all programming languages have fancy [arbitrary precision integers](https://rushter.com/blog/python-integer-implementation/). NumPy arrays of integers and floats will have limited precision.\n",
    "\n",
    "#### Integer types\n",
    "* `np.int8`, `np.int16`, `np.int32`, `np.int64`\n",
    "* `np.uint8`, `np.uint16`, `np.uint32`, `np.uint64`\n",
    "\n",
    "#### Floating point types\n",
    "* `np.float16`, `np.float32`, `np.float64`, `np.float128`\n",
    "\n",
    "Use the `np.iinfo` (for ints) and `np.finfo` (for floats) commands to see the limitations of some of these variable types, i.e. what do you get from `np.iinfo(np.int32)`?"
   ]
  },
  {
   "cell_type": "code",
   "execution_count": null,
   "metadata": {
    "deletable": false,
    "editable": false,
    "nbgrader": {
     "checksum": "9965092d544efc2f1f916d5f9470ecb9",
     "grade": false,
     "grade_id": "cell-51b41d090c464ed0",
     "locked": true,
     "schema_version": 1,
     "solution": false
    }
   },
   "outputs": [],
   "source": [
    "import numpy as np"
   ]
  },
  {
   "cell_type": "code",
   "execution_count": 29,
   "metadata": {},
   "outputs": [
    {
     "data": {
      "text/plain": [
       "finfo(resolution=1e-06, min=-3.4028235e+38, max=3.4028235e+38, dtype=float32)"
      ]
     },
     "execution_count": 29,
     "metadata": {},
     "output_type": "execute_result"
    }
   ],
   "source": [
    "np.iinfo(np.int8)\n",
    "np.finfo(np.float32)\n"
   ]
  },
  {
   "cell_type": "markdown",
   "metadata": {
    "deletable": false,
    "editable": false,
    "nbgrader": {
     "checksum": "73c87620273b989e30f4b443e59f68d0",
     "grade": false,
     "grade_id": "cell-5580f5f8c2915642",
     "locked": true,
     "schema_version": 1,
     "solution": false
    }
   },
   "source": [
    "See what happens when an upper or lower limit is exceeded. Try a few different types."
   ]
  },
  {
   "cell_type": "code",
   "execution_count": 26,
   "metadata": {},
   "outputs": [
    {
     "name": "stdout",
     "output_type": "stream",
     "text": [
      "[125 126 127]\n",
      "[ 126  127 -128]\n"
     ]
    }
   ],
   "source": [
    "# code inverts to the minimum value it can represent\n",
    "# np.int9 min = -128 max = 127\n",
    "x = np.array([125, 126, 127], dtype=np.int8)\n",
    "print(x)\n",
    "x += 1\n",
    "print(x)"
   ]
  },
  {
   "cell_type": "markdown",
   "metadata": {
    "deletable": false,
    "editable": false,
    "nbgrader": {
     "checksum": "25e444df763515a535c1d967806a6a2c",
     "grade": false,
     "grade_id": "cell-683ddf9c918eb860",
     "locked": true,
     "schema_version": 1,
     "solution": false
    }
   },
   "source": [
    "Floating point numbers have an attribute called *resolution*. Demonstrate the meaning of this term with the array below."
   ]
  },
  {
   "cell_type": "code",
   "execution_count": 33,
   "metadata": {},
   "outputs": [
    {
     "name": "stdout",
     "output_type": "stream",
     "text": [
      "[1.e+03 1.e+02 1.e+01 1.e+00 1.e-01]\n",
      "[1.0000000e+03 1.0000000e+02 1.0000000e+01 1.0000000e+00 1.0000001e-01]\n"
     ]
    }
   ],
   "source": [
    "y = np.array([1000, 100, 10, 1, 0.1], dtype=np.float32)\n",
    "print(y)\n",
    "y += 1e-08\n",
    "print(y)\n",
    "\n"
   ]
  },
  {
   "cell_type": "markdown",
   "metadata": {
    "deletable": false,
    "editable": false,
    "nbgrader": {
     "checksum": "8df9217d0f81219af280acfc3e8a0936",
     "grade": false,
     "grade_id": "cell-63fea32361fb7d86",
     "locked": true,
     "schema_version": 1,
     "solution": false
    }
   },
   "source": [
    "## NumPy arrays: why bother?\n",
    "NumPy arrays can be manipulated all at once without having to explicitly iterate over each value. NumPy operations are also significantly faster."
   ]
  },
  {
   "cell_type": "code",
   "execution_count": null,
   "metadata": {
    "deletable": false,
    "editable": false,
    "nbgrader": {
     "checksum": "d9b1d61b07ec0f1daa0e0db06cd2de82",
     "grade": false,
     "grade_id": "cell-a8073cefe127bb09",
     "locked": true,
     "schema_version": 1,
     "solution": false
    }
   },
   "outputs": [],
   "source": [
    "import time"
   ]
  },
  {
   "cell_type": "code",
   "execution_count": null,
   "metadata": {},
   "outputs": [],
   "source": [
    "# with lists\n",
    "z = list(range(10000000))\n",
    "\n",
    "t1 = time.time()\n",
    "for i in range(len(z)):\n",
    "    z[i] += 1\n",
    "t2 = time.time()\n",
    "print(\"That took %f seconds.\" % (t2-t1))"
   ]
  },
  {
   "cell_type": "code",
   "execution_count": null,
   "metadata": {},
   "outputs": [],
   "source": [
    "# with arrays\n",
    "z = list(range(10000000))\n",
    "za = np.array(z)\n",
    "\n",
    "t1 = time.time()\n",
    "za += 1\n",
    "t2 = time.time()\n",
    "print(\"That took %f seconds.\" % (t2-t1))"
   ]
  },
  {
   "cell_type": "markdown",
   "metadata": {
    "deletable": false,
    "editable": false,
    "nbgrader": {
     "checksum": "262a2886abd5308d05caebdfdff46f3e",
     "grade": false,
     "grade_id": "cell-aa98c8f93415dae1",
     "locked": true,
     "schema_version": 1,
     "solution": false
    }
   },
   "source": [
    "### Some useful NumPy array generator functions.\n",
    "* `np.arange`\n",
    "* `np.linspace`\n",
    "* `np.logspace`\n",
    "* `np.ones`, `np.ones_like`\n",
    "* `np.zeros`, `np.zeros_like`\n",
    "\n",
    "Try them out. Feel free to make notes for yourself."
   ]
  },
  {
   "cell_type": "code",
   "execution_count": 68,
   "metadata": {},
   "outputs": [
    {
     "name": "stdout",
     "output_type": "stream",
     "text": [
      "[-5 -4 -3 -2 -1  0  1  2  3  4  5]\n",
      "[0 2 4 6 8]\n",
      "[ 2.          2.36734694  2.73469388  3.10204082  3.46938776  3.83673469\n",
      "  4.20408163  4.57142857  4.93877551  5.30612245  5.67346939  6.04081633\n",
      "  6.40816327  6.7755102   7.14285714  7.51020408  7.87755102  8.24489796\n",
      "  8.6122449   8.97959184  9.34693878  9.71428571 10.08163265 10.44897959\n",
      " 10.81632653 11.18367347 11.55102041 11.91836735 12.28571429 12.65306122\n",
      " 13.02040816 13.3877551  13.75510204 14.12244898 14.48979592 14.85714286\n",
      " 15.2244898  15.59183673 15.95918367 16.32653061 16.69387755 17.06122449\n",
      " 17.42857143 17.79591837 18.16326531 18.53061224 18.89795918 19.26530612\n",
      " 19.63265306 20.        ]\n",
      "[1.00000000e+02 8.85866790e+02 7.84759970e+03 6.95192796e+04\n",
      " 6.15848211e+05 5.45559478e+06 4.83293024e+07 4.28133240e+08\n",
      " 3.79269019e+09 3.35981829e+10 2.97635144e+11 2.63665090e+12\n",
      " 2.33572147e+13 2.06913808e+14 1.83298071e+15 1.62377674e+16\n",
      " 1.43844989e+17 1.27427499e+18 1.12883789e+19 1.00000000e+20]\n"
     ]
    }
   ],
   "source": [
    "import numpy as np\n",
    "\n",
    "# makes a 1D array with evenly spaced\n",
    "x = np.arange(-5,6)\n",
    "print(x)\n",
    "\n",
    "# 2nd argument is the end and 3rd argument is spacing\n",
    "y = np.arange(0,10,2)\n",
    "print(y)\n",
    "\n",
    "# will give a 1D array with 50 evenly spaced numbers between 2 and 20\n",
    "# can add 3rd argument num = * to change number of items in array\n",
    "z = np.linspace(2,20)\n",
    "print(z)\n",
    "\n",
    "# same as above but using logarithms\n",
    "# can add extra arguments in order to modify base\n",
    "a = np.logspace(2,20,num=20,base=10.0)\n",
    "print(a)\n",
    "\n",
    "\n"
   ]
  },
  {
   "cell_type": "markdown",
   "metadata": {
    "deletable": false,
    "editable": false,
    "nbgrader": {
     "checksum": "99166638894f4b3c00acea855c90a158",
     "grade": false,
     "grade_id": "cell-d8dc969b6f18b558",
     "locked": true,
     "schema_version": 1,
     "solution": false
    }
   },
   "source": [
    "## Plotting\n",
    "Some useful plotting commands:\n",
    "* `plt.plot`\n",
    "* `plt.semilogx`, `plt.semilogy`\n",
    "* `plt.loglog`\n",
    "* `plt.scatter`\n",
    "* `plt.xlim`, `plt.ylim`\n",
    "* `plt.xlabel`, `plt.ylabel`\n",
    "* `plt.legend`\n",
    "* `plt.title`\n",
    "* `plt.xscale`, `plt.yscale`\n",
    "\n",
    "See [here](https://matplotlib.org/api/pyplot_summary.html) for a list of all plotting commands.\n",
    "\n",
    "When making plots for checkpoints, always label the axes. Make them look nice."
   ]
  },
  {
   "cell_type": "markdown",
   "metadata": {
    "deletable": false,
    "editable": false,
    "nbgrader": {
     "checksum": "4d120a2cdde0bf88eb7709e9d40ea36d",
     "grade": false,
     "grade_id": "cell-4d0b613332d24d26",
     "locked": true,
     "schema_version": 1,
     "solution": false
    }
   },
   "source": [
    "A Gaussian distribution with mean, $\\mu$, and variance, $\\sigma^2$, takes the form:\n",
    "\n",
    "$\n",
    "\\begin{align}\n",
    "\\Large\n",
    "f(x) = \\frac{1}{2\\pi\\sigma^{2}} e^{-\\frac{(x - \\mu)^2}{2\\sigma^{2}}}\n",
    "\\end{align}\n",
    "$\n",
    "\n",
    "Make a plot of this function over the range [-5, 5] for a couple values of $\\mu$ and $\\sigma$ with appropriate labels and a legend. Hint, the `label` keyword can be given to the plotting commands to aid in making the legend. Try different combinations of linear and log-space plots."
   ]
  },
  {
   "cell_type": "markdown",
   "metadata": {},
   "source": [
    "First, code up a function for the Gaussian distribution. We'll use it here and there."
   ]
  },
  {
   "cell_type": "code",
   "execution_count": 135,
   "metadata": {
    "deletable": false,
    "nbgrader": {
     "checksum": "9860cd5f4cf0ed77070823cdc45cc557",
     "grade": false,
     "grade_id": "cell-60dc027608ded4c0",
     "locked": false,
     "schema_version": 1,
     "solution": true
    }
   },
   "outputs": [],
   "source": [
    "def my_gaussian(x, mu=0, sigma=1):\n",
    "    # np.exp can act on entire arrays! woo!\n",
    "    y = 1/np.sqrt((2*np.pi*(sigma)**2))*np.exp(-(x-mu)**2/(2*(sigma)**2))\n",
    "    return y"
   ]
  },
  {
   "cell_type": "markdown",
   "metadata": {},
   "source": [
    "Running the cell below will test your function with a few values."
   ]
  },
  {
   "cell_type": "code",
   "execution_count": 117,
   "metadata": {
    "deletable": false,
    "editable": false,
    "nbgrader": {
     "checksum": "f645257bb9114fb67ead36b3c0bf8422",
     "grade": true,
     "grade_id": "cell-b2673774124214e2",
     "locked": true,
     "points": 0,
     "schema_version": 1,
     "solution": false
    }
   },
   "outputs": [],
   "source": [
    "assert (my_gaussian(0) - 0.3989422804014327 < 1e-7)\n",
    "assert (my_gaussian(1) - 0.24197072451914337 < 1e-7)"
   ]
  },
  {
   "cell_type": "code",
   "execution_count": 118,
   "metadata": {
    "deletable": false,
    "editable": false,
    "nbgrader": {
     "checksum": "aee5009f46cd862a05e637352b2d13db",
     "grade": false,
     "grade_id": "cell-f2942bafb397f886",
     "locked": true,
     "schema_version": 1,
     "solution": false
    }
   },
   "outputs": [],
   "source": [
    "from matplotlib import pyplot as plt\n",
    "%matplotlib inline\n",
    "import numpy as np"
   ]
  },
  {
   "cell_type": "code",
   "execution_count": 76,
   "metadata": {
    "deletable": false,
    "editable": false,
    "nbgrader": {
     "checksum": "79de1e39e1b972ea265dc26d06d7dedb",
     "grade": false,
     "grade_id": "cell-3a6a2acc13602956",
     "locked": true,
     "schema_version": 1,
     "solution": false
    }
   },
   "outputs": [],
   "source": [
    "plt.rcParams['figure.figsize'] = (10, 6) # inches\n",
    "plt.rcParams['font.size'] = 14"
   ]
  },
  {
   "cell_type": "code",
   "execution_count": 161,
   "metadata": {},
   "outputs": [
    {
     "data": {
      "image/png": "[encoded data removed]",
      "text/plain": [
       "<Figure size 432x288 with 1 Axes>"
      ]
     },
     "metadata": {
      "needs_background": "light"
     },
     "output_type": "display_data"
    }
   ],
   "source": [
    "x = np.linspace(-5,5, num = 50)\n",
    "y = my_gaussian(x)\n",
    "\n",
    "# Plots\n",
    "plt.title(\"Gaussian Centred on Zero\")\n",
    "plt.xlabel(\"x\")\n",
    "plt.ylabel(\"f(x)\")\n",
    "plt.plot(x,y)\n",
    "plt.show()"
   ]
  },
  {
   "cell_type": "markdown",
   "metadata": {
    "deletable": false,
    "editable": false,
    "nbgrader": {
     "checksum": "bd6cc7aa17ce116a83b57d1eff69971a",
     "grade": false,
     "grade_id": "cell-7ebbed7d8095f94f",
     "locked": true,
     "schema_version": 1,
     "solution": false
    }
   },
   "source": [
    "## Integration\n",
    "Simple integration/summation can be done with basic array operations, i.e., not using fancy integration functions. Some useful functions:\n",
    "* `np.sum`, `np.cumsum`\n",
    "\n",
    "Note, many operations available directly from an array:\n",
    "```\n",
    "x = np.array([0, 1])\n",
    "print (x.sum())\n",
    "print (x.cumsum())\n",
    "print (x.mean(), x.min(), x.max(), x.size)\n",
    "```\n",
    "\n",
    "Scipy has many [useful integration functions](https://docs.scipy.org/doc/scipy/reference/tutorial/integrate.html).\n",
    "\n",
    "To import one of those, you'll need to do:\n",
    "```\n",
    "from scipy.integrate import FUNCTION\n",
    "```\n",
    "\n",
    "Note, some of the scipy integrators require a function be given as one of the arguments. Other expect arrays of values. Read their documentation."
   ]
  },
  {
   "cell_type": "markdown",
   "metadata": {
    "deletable": false,
    "editable": false,
    "nbgrader": {
     "checksum": "5c77662ea30244c9eda0305dd6072463",
     "grade": false,
     "grade_id": "cell-bd6ac5845ceaeb21",
     "locked": true,
     "schema_version": 1,
     "solution": false
    }
   },
   "source": [
    "Integrate the Gaussian distribution from -5$\\sigma$ to +5$\\sigma$ using a few of the integration functions, like the trapezoidal rule and Simpson's rule. How quickly do the answers converge as a function of the number of points used?\n",
    "\n",
    "Bonus: approximations like the trapezoidal rule and Simpson's rule can be coded up as vector operations in a few lines. Try this if you feel like."
   ]
  },
  {
   "cell_type": "code",
   "execution_count": 162,
   "metadata": {},
   "outputs": [
    {
     "name": "stdout",
     "output_type": "stream",
     "text": [
      "0.9999993758704986\n",
      "0.9999994627045221\n"
     ]
    }
   ],
   "source": [
    "from scipy.integrate import trapz\n",
    "from scipy.integrate import simps\n",
    "\n",
    "# x is already from 5sigma\n",
    "integral_t = trapz(y,x)\n",
    "integral_s = simps(y,x)\n",
    "print(integral_t)\n",
    "print(integral_s)\n",
    "\n"
   ]
  },
  {
   "cell_type": "code",
   "execution_count": 156,
   "metadata": {},
   "outputs": [
    {
     "name": "stdout",
     "output_type": "stream",
     "text": [
      "[1.48671951e-06 1.56294518e-06 1.64291438e-06 1.72680223e-06\n",
      " 1.81479157e-06 1.90707332e-06 2.00384677e-06 2.10531999e-06\n",
      " 2.21171010e-06 2.32324372e-06 2.44015731e-06 2.56269761e-06\n",
      " 2.69112199e-06 2.82569895e-06 2.96670852e-06 3.11444274e-06\n",
      " 3.26920615e-06 3.43131624e-06 3.60110404e-06 3.77891458e-06\n",
      " 3.96510749e-06 4.16005756e-06 4.36415530e-06 4.57780761e-06\n",
      " 4.80143840e-06 5.03548920e-06 5.28041992e-06 5.53670947e-06\n",
      " 5.80485658e-06 6.08538047e-06 6.37882168e-06 6.68574289e-06\n",
      " 7.00672970e-06 7.34239154e-06 7.69336257e-06 8.06030255e-06\n",
      " 8.44389784e-06 8.84486240e-06 9.26393876e-06 9.70189908e-06\n",
      " 1.01595463e-05 1.06377152e-05 1.11372736e-05 1.16591234e-05\n",
      " 1.22042022e-05 1.27734842e-05 1.33679815e-05 1.39887459e-05\n",
      " 1.46368699e-05 1.53134881e-05 1.60197791e-05 1.67569666e-05\n",
      " 1.75263212e-05 1.83291622e-05 1.91668589e-05 2.00408326e-05\n",
      " 2.09525584e-05 2.19035668e-05 2.28954459e-05 2.39298433e-05\n",
      " 2.50084680e-05 2.61330924e-05 2.73055547e-05 2.85277610e-05\n",
      " 2.98016873e-05 3.11293824e-05 3.25129696e-05 3.39546498e-05\n",
      " 3.54567035e-05 3.70214940e-05 3.86514694e-05 4.03491658e-05\n",
      " 4.21172102e-05 4.39583229e-05 4.58753211e-05 4.78711216e-05\n",
      " 4.99487441e-05 5.21113142e-05 5.43620671e-05 5.67043508e-05\n",
      " 5.91416295e-05 6.16774875e-05 6.43156324e-05 6.70598996e-05\n",
      " 6.99142555e-05 7.28828016e-05 7.59697791e-05 7.91795725e-05\n",
      " 8.25167139e-05 8.59858880e-05 8.95919357e-05 9.33398595e-05\n",
      " 9.72348278e-05 1.01282180e-04 1.05487430e-04 1.09856275e-04\n",
      " 1.14394597e-04 1.19108467e-04 1.24004157e-04 1.29088138e-04\n",
      " 1.34367089e-04 1.39847906e-04 1.45537701e-04 1.51443813e-04\n",
      " 1.57573813e-04 1.63935511e-04 1.70536959e-04 1.77386463e-04\n",
      " 1.84492586e-04 1.91864155e-04 1.99510270e-04 2.07440309e-04\n",
      " 2.15663936e-04 2.24191111e-04 2.33032092e-04 2.42197448e-04\n",
      " 2.51698064e-04 2.61545150e-04 2.71750248e-04 2.82325244e-04\n",
      " 2.93282371e-04 3.04634221e-04 3.16393754e-04 3.28574305e-04\n",
      " 3.41189596e-04 3.54253739e-04 3.67781255e-04 3.81787075e-04\n",
      " 3.96286554e-04 4.11295478e-04 4.26830079e-04 4.42907039e-04\n",
      " 4.59543504e-04 4.76757094e-04 4.94565913e-04 5.12988560e-04\n",
      " 5.32044139e-04 5.51752272e-04 5.72133108e-04 5.93207338e-04\n",
      " 6.14996199e-04 6.37521496e-04 6.60805604e-04 6.84871487e-04\n",
      " 7.09742705e-04 7.35443430e-04 7.61998457e-04 7.89433213e-04\n",
      " 8.17773777e-04 8.47046885e-04 8.77279948e-04 9.08501063e-04\n",
      " 9.40739024e-04 9.74023340e-04 1.00838424e-03 1.04385271e-03\n",
      " 1.08046046e-03 1.11823998e-03 1.15722454e-03 1.19744822e-03\n",
      " 1.23894586e-03 1.28175318e-03 1.32590668e-03 1.37144374e-03\n",
      " 1.41840261e-03 1.46682238e-03 1.51674306e-03 1.56820557e-03\n",
      " 1.62125172e-03 1.67592427e-03 1.73226693e-03 1.79032436e-03\n",
      " 1.85014222e-03 1.91176712e-03 1.97524671e-03 2.04062963e-03\n",
      " 2.10796558e-03 2.17730527e-03 2.24870050e-03 2.32220413e-03\n",
      " 2.39787011e-03 2.47575348e-03 2.55591040e-03 2.63839816e-03\n",
      " 2.72327519e-03 2.81060107e-03 2.90043655e-03 2.99284354e-03\n",
      " 3.08788517e-03 3.18562576e-03 3.28613083e-03 3.38946715e-03\n",
      " 3.49570271e-03 3.60490678e-03 3.71714984e-03 3.83250369e-03\n",
      " 3.95104138e-03 4.07283728e-03 4.19796703e-03 4.32650760e-03\n",
      " 4.45853728e-03 4.59413568e-03 4.73338375e-03 4.87636379e-03\n",
      " 5.02315943e-03 5.17385570e-03 5.32853895e-03 5.48729692e-03\n",
      " 5.65021873e-03 5.81739487e-03 5.98891723e-03 6.16487906e-03\n",
      " 6.34537503e-03 6.53050119e-03 6.72035498e-03 6.91503526e-03\n",
      " 7.11464225e-03 7.31927759e-03 7.52904433e-03 7.74404687e-03\n",
      " 7.96439105e-03 8.19018406e-03 8.42153448e-03 8.65855230e-03\n",
      " 8.90134884e-03 9.15003682e-03 9.40473029e-03 9.66554468e-03\n",
      " 9.93259675e-03 1.02060046e-02 1.04858876e-02 1.07723664e-02\n",
      " 1.10655632e-02 1.13656012e-02 1.16726049e-02 1.19867001e-02\n",
      " 1.23080140e-02 1.26366746e-02 1.29728116e-02 1.33165554e-02\n",
      " 1.36680379e-02 1.40273919e-02 1.43947515e-02 1.47702517e-02\n",
      " 1.51540287e-02 1.55462195e-02 1.59469624e-02 1.63563965e-02\n",
      " 1.67746618e-02 1.72018992e-02 1.76382506e-02 1.80838585e-02\n",
      " 1.85388665e-02 1.90034187e-02 1.94776600e-02 1.99617360e-02\n",
      " 2.04557929e-02 2.09599775e-02 2.14744372e-02 2.19993198e-02\n",
      " 2.25347735e-02 2.30809471e-02 2.36379896e-02 2.42060504e-02\n",
      " 2.47852791e-02 2.53758253e-02 2.59778391e-02 2.65914704e-02\n",
      " 2.72168692e-02 2.78541855e-02 2.85035691e-02 2.91651697e-02\n",
      " 2.98391368e-02 3.05256195e-02 3.12247667e-02 3.19367266e-02\n",
      " 3.26616471e-02 3.33996755e-02 3.41509585e-02 3.49156418e-02\n",
      " 3.56938707e-02 3.64857893e-02 3.72915409e-02 3.81112678e-02\n",
      " 3.89451110e-02 3.97932106e-02 4.06557052e-02 4.15327320e-02\n",
      " 4.24244269e-02 4.33309242e-02 4.42523567e-02 4.51888553e-02\n",
      " 4.61405491e-02 4.71075656e-02 4.80900299e-02 4.90880655e-02\n",
      " 5.01017932e-02 5.11313321e-02 5.21767985e-02 5.32383064e-02\n",
      " 5.43159674e-02 5.54098903e-02 5.65201811e-02 5.76469432e-02\n",
      " 5.87902768e-02 5.99502792e-02 6.11270446e-02 6.23206639e-02\n",
      " 6.35312247e-02 6.47588111e-02 6.60035037e-02 6.72653795e-02\n",
      " 6.85445117e-02 6.98409697e-02 7.11548190e-02 7.24861209e-02\n",
      " 7.38349328e-02 7.52013075e-02 7.65852939e-02 7.79869361e-02\n",
      " 7.94062739e-02 8.08433422e-02 8.22981714e-02 8.37707869e-02\n",
      " 8.52612093e-02 8.67694540e-02 8.82955314e-02 8.98394467e-02\n",
      " 9.14011996e-02 9.29807846e-02 9.45781905e-02 9.61934008e-02\n",
      " 9.78263929e-02 9.94771388e-02 1.01145604e-01 1.02831750e-01\n",
      " 1.04535529e-01 1.06256890e-01 1.07995775e-01 1.09752118e-01\n",
      " 1.11525850e-01 1.13316892e-01 1.15125161e-01 1.16950567e-01\n",
      " 1.18793013e-01 1.20652394e-01 1.22528601e-01 1.24421517e-01\n",
      " 1.26331016e-01 1.28256969e-01 1.30199236e-01 1.32157674e-01\n",
      " 1.34132129e-01 1.36122443e-01 1.38128449e-01 1.40149973e-01\n",
      " 1.42186834e-01 1.44238845e-01 1.46305809e-01 1.48387524e-01\n",
      " 1.50483779e-01 1.52594357e-01 1.54719033e-01 1.56857574e-01\n",
      " 1.59009741e-01 1.61175286e-01 1.63353954e-01 1.65545484e-01\n",
      " 1.67749605e-01 1.69966042e-01 1.72194509e-01 1.74434714e-01\n",
      " 1.76686359e-01 1.78949137e-01 1.81222735e-01 1.83506831e-01\n",
      " 1.85801097e-01 1.88105197e-01 1.90418790e-01 1.92741524e-01\n",
      " 1.95073045e-01 1.97412986e-01 1.99760979e-01 2.02116645e-01\n",
      " 2.04479600e-01 2.06849454e-01 2.09225807e-01 2.11608257e-01\n",
      " 2.13996392e-01 2.16389795e-01 2.18788043e-01 2.21190706e-01\n",
      " 2.23597349e-01 2.26007530e-01 2.28420802e-01 2.30836711e-01\n",
      " 2.33254798e-01 2.35674601e-01 2.38095648e-01 2.40517464e-01\n",
      " 2.42939571e-01 2.45361483e-01 2.47782710e-01 2.50202758e-01\n",
      " 2.52621129e-01 2.55037318e-01 2.57450819e-01 2.59861120e-01\n",
      " 2.62267707e-01 2.64670059e-01 2.67067655e-01 2.69459970e-01\n",
      " 2.71846473e-01 2.74226634e-01 2.76599918e-01 2.78965787e-01\n",
      " 2.81323703e-01 2.83673123e-01 2.86013503e-01 2.88344299e-01\n",
      " 2.90664962e-01 2.92974946e-01 2.95273699e-01 2.97560671e-01\n",
      " 2.99835312e-01 3.02097069e-01 3.04345390e-01 3.06579724e-01\n",
      " 3.08799517e-01 3.11004218e-01 3.13193276e-01 3.15366141e-01\n",
      " 3.17522263e-01 3.19661095e-01 3.21782090e-01 3.23884702e-01\n",
      " 3.25968391e-01 3.28032613e-01 3.30076832e-01 3.32100512e-01\n",
      " 3.34103120e-01 3.36084127e-01 3.38043006e-01 3.39979235e-01\n",
      " 3.41892294e-01 3.43781670e-01 3.45646851e-01 3.47487331e-01\n",
      " 3.49302609e-01 3.51092190e-01 3.52855580e-01 3.54592296e-01\n",
      " 3.56301856e-01 3.57983786e-01 3.59637619e-01 3.61262891e-01\n",
      " 3.62859148e-01 3.64425940e-01 3.65962827e-01 3.67469372e-01\n",
      " 3.68945149e-01 3.70389738e-01 3.71802727e-01 3.73183711e-01\n",
      " 3.74532294e-01 3.75848089e-01 3.77130715e-01 3.78379803e-01\n",
      " 3.79594991e-01 3.80775926e-01 3.81922264e-01 3.83033671e-01\n",
      " 3.84109822e-01 3.85150403e-01 3.86155108e-01 3.87123642e-01\n",
      " 3.88055720e-01 3.88951067e-01 3.89809419e-01 3.90630522e-01\n",
      " 3.91414133e-01 3.92160019e-01 3.92867960e-01 3.93537743e-01\n",
      " 3.94169171e-01 3.94762054e-01 3.95316217e-01 3.95831493e-01\n",
      " 3.96307728e-01 3.96744781e-01 3.97142519e-01 3.97500825e-01\n",
      " 3.97819591e-01 3.98098720e-01 3.98338130e-01 3.98537748e-01\n",
      " 3.98697514e-01 3.98817381e-01 3.98897312e-01 3.98937284e-01\n",
      " 3.98937284e-01 3.98897312e-01 3.98817381e-01 3.98697514e-01\n",
      " 3.98537748e-01 3.98338130e-01 3.98098720e-01 3.97819591e-01\n",
      " 3.97500825e-01 3.97142519e-01 3.96744781e-01 3.96307728e-01\n",
      " 3.95831493e-01 3.95316217e-01 3.94762054e-01 3.94169171e-01\n",
      " 3.93537743e-01 3.92867960e-01 3.92160019e-01 3.91414133e-01\n",
      " 3.90630522e-01 3.89809419e-01 3.88951067e-01 3.88055720e-01\n",
      " 3.87123642e-01 3.86155108e-01 3.85150403e-01 3.84109822e-01\n",
      " 3.83033671e-01 3.81922264e-01 3.80775926e-01 3.79594991e-01\n",
      " 3.78379803e-01 3.77130715e-01 3.75848089e-01 3.74532294e-01\n",
      " 3.73183711e-01 3.71802727e-01 3.70389738e-01 3.68945149e-01\n",
      " 3.67469372e-01 3.65962827e-01 3.64425940e-01 3.62859148e-01\n",
      " 3.61262891e-01 3.59637619e-01 3.57983786e-01 3.56301856e-01\n",
      " 3.54592296e-01 3.52855580e-01 3.51092190e-01 3.49302609e-01\n",
      " 3.47487331e-01 3.45646851e-01 3.43781670e-01 3.41892294e-01\n",
      " 3.39979235e-01 3.38043006e-01 3.36084127e-01 3.34103120e-01\n",
      " 3.32100512e-01 3.30076832e-01 3.28032613e-01 3.25968391e-01\n",
      " 3.23884702e-01 3.21782090e-01 3.19661095e-01 3.17522263e-01\n",
      " 3.15366141e-01 3.13193276e-01 3.11004218e-01 3.08799517e-01\n",
      " 3.06579724e-01 3.04345390e-01 3.02097069e-01 2.99835312e-01\n",
      " 2.97560671e-01 2.95273699e-01 2.92974946e-01 2.90664962e-01\n",
      " 2.88344299e-01 2.86013503e-01 2.83673123e-01 2.81323703e-01\n",
      " 2.78965787e-01 2.76599918e-01 2.74226634e-01 2.71846473e-01\n",
      " 2.69459970e-01 2.67067655e-01 2.64670059e-01 2.62267707e-01\n",
      " 2.59861120e-01 2.57450819e-01 2.55037318e-01 2.52621129e-01\n",
      " 2.50202758e-01 2.47782710e-01 2.45361483e-01 2.42939571e-01\n",
      " 2.40517464e-01 2.38095648e-01 2.35674601e-01 2.33254798e-01\n",
      " 2.30836711e-01 2.28420802e-01 2.26007530e-01 2.23597349e-01\n",
      " 2.21190706e-01 2.18788043e-01 2.16389795e-01 2.13996392e-01\n",
      " 2.11608257e-01 2.09225807e-01 2.06849454e-01 2.04479600e-01\n",
      " 2.02116645e-01 1.99760979e-01 1.97412986e-01 1.95073045e-01\n",
      " 1.92741524e-01 1.90418790e-01 1.88105197e-01 1.85801097e-01\n",
      " 1.83506831e-01 1.81222735e-01 1.78949137e-01 1.76686359e-01\n",
      " 1.74434714e-01 1.72194509e-01 1.69966042e-01 1.67749605e-01\n",
      " 1.65545484e-01 1.63353954e-01 1.61175286e-01 1.59009741e-01\n",
      " 1.56857574e-01 1.54719033e-01 1.52594357e-01 1.50483779e-01\n",
      " 1.48387524e-01 1.46305809e-01 1.44238845e-01 1.42186834e-01\n",
      " 1.40149973e-01 1.38128449e-01 1.36122443e-01 1.34132129e-01\n",
      " 1.32157674e-01 1.30199236e-01 1.28256969e-01 1.26331016e-01\n",
      " 1.24421517e-01 1.22528601e-01 1.20652394e-01 1.18793013e-01\n",
      " 1.16950567e-01 1.15125161e-01 1.13316892e-01 1.11525850e-01\n",
      " 1.09752118e-01 1.07995775e-01 1.06256890e-01 1.04535529e-01\n",
      " 1.02831750e-01 1.01145604e-01 9.94771388e-02 9.78263929e-02\n",
      " 9.61934008e-02 9.45781905e-02 9.29807846e-02 9.14011996e-02\n",
      " 8.98394467e-02 8.82955314e-02 8.67694540e-02 8.52612093e-02\n",
      " 8.37707869e-02 8.22981714e-02 8.08433422e-02 7.94062739e-02\n",
      " 7.79869361e-02 7.65852939e-02 7.52013075e-02 7.38349328e-02\n",
      " 7.24861209e-02 7.11548190e-02 6.98409697e-02 6.85445117e-02\n",
      " 6.72653795e-02 6.60035037e-02 6.47588111e-02 6.35312247e-02\n",
      " 6.23206639e-02 6.11270446e-02 5.99502792e-02 5.87902768e-02\n",
      " 5.76469432e-02 5.65201811e-02 5.54098903e-02 5.43159674e-02\n",
      " 5.32383064e-02 5.21767985e-02 5.11313321e-02 5.01017932e-02\n",
      " 4.90880655e-02 4.80900299e-02 4.71075656e-02 4.61405491e-02\n",
      " 4.51888553e-02 4.42523567e-02 4.33309242e-02 4.24244269e-02\n",
      " 4.15327320e-02 4.06557052e-02 3.97932106e-02 3.89451110e-02\n",
      " 3.81112678e-02 3.72915409e-02 3.64857893e-02 3.56938707e-02\n",
      " 3.49156418e-02 3.41509585e-02 3.33996755e-02 3.26616471e-02\n",
      " 3.19367266e-02 3.12247667e-02 3.05256195e-02 2.98391368e-02\n",
      " 2.91651697e-02 2.85035691e-02 2.78541855e-02 2.72168692e-02\n",
      " 2.65914704e-02 2.59778391e-02 2.53758253e-02 2.47852791e-02\n",
      " 2.42060504e-02 2.36379896e-02 2.30809471e-02 2.25347735e-02\n",
      " 2.19993198e-02 2.14744372e-02 2.09599775e-02 2.04557929e-02\n",
      " 1.99617360e-02 1.94776600e-02 1.90034187e-02 1.85388665e-02\n",
      " 1.80838585e-02 1.76382506e-02 1.72018992e-02 1.67746618e-02\n",
      " 1.63563965e-02 1.59469624e-02 1.55462195e-02 1.51540287e-02\n",
      " 1.47702517e-02 1.43947515e-02 1.40273919e-02 1.36680379e-02\n",
      " 1.33165554e-02 1.29728116e-02 1.26366746e-02 1.23080140e-02\n",
      " 1.19867001e-02 1.16726049e-02 1.13656012e-02 1.10655632e-02\n",
      " 1.07723664e-02 1.04858876e-02 1.02060046e-02 9.93259675e-03\n",
      " 9.66554468e-03 9.40473029e-03 9.15003682e-03 8.90134884e-03\n",
      " 8.65855230e-03 8.42153448e-03 8.19018406e-03 7.96439105e-03\n",
      " 7.74404687e-03 7.52904433e-03 7.31927759e-03 7.11464225e-03\n",
      " 6.91503526e-03 6.72035498e-03 6.53050119e-03 6.34537503e-03\n",
      " 6.16487906e-03 5.98891723e-03 5.81739487e-03 5.65021873e-03\n",
      " 5.48729692e-03 5.32853895e-03 5.17385570e-03 5.02315943e-03\n",
      " 4.87636379e-03 4.73338375e-03 4.59413568e-03 4.45853728e-03\n",
      " 4.32650760e-03 4.19796703e-03 4.07283728e-03 3.95104138e-03\n",
      " 3.83250369e-03 3.71714984e-03 3.60490678e-03 3.49570271e-03\n",
      " 3.38946715e-03 3.28613083e-03 3.18562576e-03 3.08788517e-03\n",
      " 2.99284354e-03 2.90043655e-03 2.81060107e-03 2.72327519e-03\n",
      " 2.63839816e-03 2.55591040e-03 2.47575348e-03 2.39787011e-03\n",
      " 2.32220413e-03 2.24870050e-03 2.17730527e-03 2.10796558e-03\n",
      " 2.04062963e-03 1.97524671e-03 1.91176712e-03 1.85014222e-03\n",
      " 1.79032436e-03 1.73226693e-03 1.67592427e-03 1.62125172e-03\n",
      " 1.56820557e-03 1.51674306e-03 1.46682238e-03 1.41840261e-03\n",
      " 1.37144374e-03 1.32590668e-03 1.28175318e-03 1.23894586e-03\n",
      " 1.19744822e-03 1.15722454e-03 1.11823998e-03 1.08046046e-03\n",
      " 1.04385271e-03 1.00838424e-03 9.74023340e-04 9.40739024e-04\n",
      " 9.08501063e-04 8.77279948e-04 8.47046885e-04 8.17773777e-04\n",
      " 7.89433213e-04 7.61998457e-04 7.35443430e-04 7.09742705e-04\n",
      " 6.84871487e-04 6.60805604e-04 6.37521496e-04 6.14996199e-04\n",
      " 5.93207338e-04 5.72133108e-04 5.51752272e-04 5.32044139e-04\n",
      " 5.12988560e-04 4.94565913e-04 4.76757094e-04 4.59543504e-04\n",
      " 4.42907039e-04 4.26830079e-04 4.11295478e-04 3.96286554e-04\n",
      " 3.81787075e-04 3.67781255e-04 3.54253739e-04 3.41189596e-04\n",
      " 3.28574305e-04 3.16393754e-04 3.04634221e-04 2.93282371e-04\n",
      " 2.82325244e-04 2.71750248e-04 2.61545150e-04 2.51698064e-04\n",
      " 2.42197448e-04 2.33032092e-04 2.24191111e-04 2.15663936e-04\n",
      " 2.07440309e-04 1.99510270e-04 1.91864155e-04 1.84492586e-04\n",
      " 1.77386463e-04 1.70536959e-04 1.63935511e-04 1.57573813e-04\n",
      " 1.51443813e-04 1.45537701e-04 1.39847906e-04 1.34367089e-04\n",
      " 1.29088138e-04 1.24004157e-04 1.19108467e-04 1.14394597e-04\n",
      " 1.09856275e-04 1.05487430e-04 1.01282180e-04 9.72348278e-05\n",
      " 9.33398595e-05 8.95919357e-05 8.59858880e-05 8.25167139e-05\n",
      " 7.91795725e-05 7.59697791e-05 7.28828016e-05 6.99142555e-05\n",
      " 6.70598996e-05 6.43156324e-05 6.16774875e-05 5.91416295e-05\n",
      " 5.67043508e-05 5.43620671e-05 5.21113142e-05 4.99487441e-05\n",
      " 4.78711216e-05 4.58753211e-05 4.39583229e-05 4.21172102e-05\n",
      " 4.03491658e-05 3.86514694e-05 3.70214940e-05 3.54567035e-05\n",
      " 3.39546498e-05 3.25129696e-05 3.11293824e-05 2.98016873e-05\n",
      " 2.85277610e-05 2.73055547e-05 2.61330924e-05 2.50084680e-05\n",
      " 2.39298433e-05 2.28954459e-05 2.19035668e-05 2.09525584e-05\n",
      " 2.00408326e-05 1.91668589e-05 1.83291622e-05 1.75263212e-05\n",
      " 1.67569666e-05 1.60197791e-05 1.53134881e-05 1.46368699e-05\n",
      " 1.39887459e-05 1.33679815e-05 1.27734842e-05 1.22042022e-05\n",
      " 1.16591234e-05 1.11372736e-05 1.06377152e-05 1.01595463e-05\n",
      " 9.70189908e-06 9.26393876e-06 8.84486240e-06 8.44389784e-06\n",
      " 8.06030255e-06 7.69336257e-06 7.34239154e-06 7.00672970e-06\n",
      " 6.68574289e-06 6.37882168e-06 6.08538047e-06 5.80485658e-06\n",
      " 5.53670947e-06 5.28041992e-06 5.03548920e-06 4.80143840e-06\n",
      " 4.57780761e-06 4.36415530e-06 4.16005756e-06 3.96510749e-06\n",
      " 3.77891458e-06 3.60110404e-06 3.43131624e-06 3.26920615e-06\n",
      " 3.11444274e-06 2.96670852e-06 2.82569895e-06 2.69112199e-06\n",
      " 2.56269761e-06 2.44015731e-06 2.32324372e-06 2.21171010e-06\n",
      " 2.10531999e-06 2.00384677e-06 1.90707332e-06 1.81479157e-06\n",
      " 1.72680223e-06 1.64291438e-06 1.56294518e-06 1.48671951e-06]\n"
     ]
    }
   ],
   "source": [
    "print(y)"
   ]
  },
  {
   "cell_type": "code",
   "execution_count": null,
   "metadata": {},
   "outputs": [],
   "source": []
  }
 ],
 "metadata": {
  "kernelspec": {
   "display_name": "Python 3",
   "language": "python",
   "name": "python3"
  },
  "language_info": {
   "codemirror_mode": {
    "name": "ipython",
    "version": 3
   },
   "file_extension": ".py",
   "mimetype": "text/x-python",
   "name": "python",
   "nbconvert_exporter": "python",
   "pygments_lexer": "ipython3",
   "version": "3.7.4"
  }
 },
 "nbformat": 4,
 "nbformat_minor": 2
}
