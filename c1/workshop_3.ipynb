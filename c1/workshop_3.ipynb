{
 "cells": [
  {
   "cell_type": "markdown",
   "metadata": {
    "nbgrader": {
     "grade": false,
     "grade_id": "cell-d7446457cde001b4",
     "locked": true,
     "schema_version": 1,
     "solution": false
    }
   },
   "source": [
    "# Numerical Recipes Workshop 3\n",
    "For the week of 7-11 October, 2019\n",
    "\n",
    "This notebook will provide a practical example of root finding for a nonlinear equation."
   ]
  },
  {
   "cell_type": "markdown",
   "metadata": {
    "nbgrader": {
     "grade": false,
     "grade_id": "cell-96a41f2c4cd85e44",
     "locked": true,
     "schema_version": 1,
     "solution": false
    }
   },
   "source": [
    "## The temperature of interstellar dust grains\n",
    "\n",
    "Understanding the nature of interstellar dust grains is vital to many areas of astronomy, from star formation to measuring the cosmic microwave background (CMB). Many observed properties of interstellar dust are derived from knowing its temperature. In general, dust is well mixed with the gas in the interstellar medium (ISM), but the two are rarely at the same temperature.\n",
    "\n",
    "The timescales for dust-related processes are very short, so the dust temperature can be calculated by assuming it is in thermal equilibrium at all times. Then, one only needs to balance the various heating and cooling processes, i.e., to find the root of the energy loss equation:\n",
    "\n",
    "$\n",
    "\\begin{align}\n",
    "\\large\n",
    "\\frac{de}{dt} = \\Gamma(T_{dust}) - \\Lambda(T_{dust}),\n",
    "\\end{align}\n",
    "$\n",
    "\n",
    "where $\\Gamma$ and $\\Lambda$ are the dust heating and cooling rates, respectively.\n",
    "\n",
    "Including the relevant heating and cooling processes, this becomes\n",
    "\n",
    "$\n",
    "\\begin{align}\n",
    "\\large\n",
    "\\frac{de}{dt} = 4 \\sigma T_{CMB}^{4} \\kappa_{gr} +\n",
    "\\Gamma_{isrf} + \\Lambda_{gas/grain}(T_{dust}, T_{gas}, n_{H}) - 4 \\sigma T_{dust}^{4} \\kappa_{gr},\n",
    "\\end{align}\n",
    "$\n",
    "\n",
    "where $\\sigma$ is the Stefan-Boltzmann constant, $T_{CMB}$ is the temperature of the CMB, $\\kappa_{gr}$ is the dust opacity, $\\Gamma_{isrf}$ is the heating from the instellar radiation field, and $\\Lambda_{gas/grain}$ is the rate of heat exchange via collisions between the gas and dust. The first term represents heating from the CMB, the second is heating from nearby stars, the third term transfers heat from the hotter to the cooler matter, and the final term is the cooling of the dust by thermal radiation.\n",
    "\n",
    "The opacity of the dust can be approximated by the piece-wise power-law:\n",
    "\n",
    "$\n",
    "\\begin{align}\n",
    "\\large\n",
    "\\kappa_{gr}(T_{dust}) \\propto \\left\\{ \\begin{array}{ll}\n",
    "T_{dust}^{2} & , T_{dust} < 200 K,\\\\\n",
    "\\textrm{constant} & , 200\\ K < T_{dust} < 1500\\ K,\\\\\n",
    "T_{dust}^{-12} & , T_{dust} > 1500\\ K.\n",
    "\\end{array} \\right.\n",
    "\\end{align}\n",
    "$\n",
    "\n",
    "The gas/grain heat transfer rate is given by:\n",
    "\n",
    "$\n",
    "\\begin{align}\n",
    "\\large\n",
    "\\Lambda_{gas/grain} = 7.2\\times10^{-8} n_{H}\n",
    "\\left(\\frac{T_{gas}}{1000 K}\\right)^{\\frac{1}{2}} (1 - 0.8 e^{-75/T_{gas}}) (T_{gas} - T_{dust})\\ [erg/s/g],\n",
    "\\end{align}\n",
    "$\n",
    "\n",
    "where $n_{H}$ is the number density of the gas.\n",
    "\n",
    "## Calculating dust temperatures with root finding\n",
    "\n",
    "The above equations have been coded below with the full heat balance equation implemented as the `gamma_grain` function. Do `help(gamma_grain)` to see how it can be called.\n",
    "\n",
    "Assuming a constant gas temperature, $T_{gas}$ and gas density, $n_{H}$, calculate the dust temperature, $T_{dust}$, using bisection, the secand method, and the Scipy implementation of [Brent's method](https://docs.scipy.org/doc/scipy/reference/generated/scipy.optimize.brentq.html#scipy.optimize.brentq). Implement your own bisection and secant methods and count the number of steps to reach a solution."
   ]
  },
  {
   "cell_type": "code",
   "execution_count": 7,
   "metadata": {
    "nbgrader": {
     "grade": false,
     "grade_id": "cell-635536ecf8abb20c",
     "locked": true,
     "schema_version": 1,
     "solution": false
    }
   },
   "outputs": [],
   "source": [
    "import numpy as np\n",
    "\n",
    "mh = 1.673735e-24 # g\n",
    "# Stefan-Boltzmann constant\n",
    "sigma_b = 5.670373e-5 # erg cm^−2 s^−1 K^−4\n",
    "\n",
    "def gas_grain(Tgas):\n",
    "    \"\"\"\n",
    "    Return gas/grain heat transfer rate coefficient.\n",
    "    \"\"\"\n",
    "\n",
    "    grain_coef = 1.2e-31 * 1.0e3**-0.5 / mh\n",
    "    gasgra = grain_coef * Tgas**0.5 * \\\n",
    "        (1.0 - (0.8 * np.exp(-75.0 / Tgas)))\n",
    "    return gasgra\n",
    "\n",
    "def kappa_grain(Tdust):\n",
    "    \"\"\"\n",
    "    Return grain mean opacity.\n",
    "    \"\"\"\n",
    "\n",
    "    kgr1   = 4.0e-4\n",
    "    kgr200 = 16.0\n",
    "    T_subl = 1500.\n",
    "\n",
    "    Tdust = np.asarray(Tdust)\n",
    "    kgr = np.zeros(Tdust.size)\n",
    "\n",
    "    f1 = Tdust < 200\n",
    "    if f1.any():\n",
    "        kgr[f1] = kgr1 * Tdust[f1]**2\n",
    "\n",
    "    kgr[(Tdust >= 200) & (Tdust < T_subl)] = kgr200\n",
    "\n",
    "    f2 = Tdust >= T_subl\n",
    "    if f2.any():\n",
    "        kgr[f2] = kgr200 * (Tdust[f2] / T_subl)**-12\n",
    "    \n",
    "    return kgr\n",
    "\n",
    "def gamma_isrf():\n",
    "    \"\"\"\n",
    "    Interstellar radiation field heating rate coefficient.\n",
    "    \"\"\"\n",
    "\n",
    "    return 4.154682e-22 / mh\n",
    "\n",
    "def gamma_grain(Tdust, Tgas, nh, isrf=1.7, z=0):\n",
    "    \"\"\"\n",
    "    Return the grain heating rate.\n",
    "    \n",
    "    Parameters\n",
    "    ----------\n",
    "    \n",
    "    Tdust : float\n",
    "        dust temperature in K\n",
    "    Tgas : float\n",
    "        gas temperature in K\n",
    "    nh : float\n",
    "        Hydrogen number density in cm^-3\n",
    "    isrf : float, optional\n",
    "        interstellar radiation field strengh in Habing units\n",
    "        default: 1.7 (typical for local interstellar medium)\n",
    "    z : float, optional\n",
    "        current redshift, used to set the temperature of the\n",
    "        Cosmic Microwave Background.\n",
    "        default: 0\n",
    "    \"\"\"\n",
    "\n",
    "    TCMB = 2.73 * (1 + z)\n",
    "    my_isrf = isrf * gamma_isrf()\n",
    "\n",
    "    return my_isrf + \\\n",
    "        4 * sigma_b * kappa_grain(Tdust) * (TCMB**4 - Tdust**4) + \\\n",
    "        (gas_grain(Tgas) * nh * (Tgas - Tdust))"
   ]
  },
  {
   "cell_type": "code",
   "execution_count": 8,
   "metadata": {},
   "outputs": [],
   "source": [
    "### Tgas and nH values\n",
    "Tgas = 100 # K\n",
    "nH = 1e3 # cm^-3"
   ]
  },
  {
   "cell_type": "markdown",
   "metadata": {
    "nbgrader": {
     "grade": false,
     "grade_id": "cell-2d3d4396b403d160",
     "locked": true,
     "schema_version": 1,
     "solution": false
    }
   },
   "source": [
    "### Bisection\n",
    "See if you can implement the bisection method to calculate $T_{dust}$ for a relative tolerance of $10^{-4}$, where the relative tolerance is given by:\n",
    "\n",
    "$\n",
    "\\begin{align}\n",
    "rtol = \\left|\\frac{val_{new} - val_{old}}{val_{old}}\\right|.\n",
    "\\end{align}\n",
    "$\n",
    "\n",
    "A sensible initial bound is $[T_{CMB}, T_{gas}]$, where $T_{CMB} = 2.73 K$ in the local Universe."
   ]
  },
  {
   "cell_type": "code",
   "execution_count": 21,
   "metadata": {},
   "outputs": [
    {
     "name": "stdout",
     "output_type": "stream",
     "text": [
      "40.85661255836487\n"
     ]
    }
   ],
   "source": [
    "def bisection(low, high, tol):\n",
    "    \n",
    "    while (np.abs(high - low)) >= tol:\n",
    "        midpoint = (high + low) / 2.0\n",
    "        above = gamma_grain(high, Tgas, nH) * gamma_grain(midpoint, Tgas, nH)\n",
    "        below = gamma_grain(midpoint, Tgas, nH) * gamma_grain(low, Tgas, nH)\n",
    "        if above < 0:\n",
    "            low = midpoint\n",
    "        elif below < 0:\n",
    "            high = midpoint\n",
    "        \n",
    "    return midpoint\n",
    "\n",
    "answer = bisection(2.73, Tgas, 1e-4)\n",
    "print(answer)"
   ]
  },
  {
   "cell_type": "markdown",
   "metadata": {},
   "source": [
    "### Secant Method\n",
    "\n",
    "See if you can implement the secant method for the same tolerance and initial guesses."
   ]
  },
  {
   "cell_type": "code",
   "execution_count": null,
   "metadata": {},
   "outputs": [],
   "source": [
    "def secant(high, low, tol):\n",
    "    x_\n",
    "    while(np.abs(high - low)) >= tol:\n",
    "        "
   ]
  },
  {
   "cell_type": "markdown",
   "metadata": {},
   "source": [
    "### Brent's Method\n",
    "\n",
    "Use [Brent's method](https://docs.scipy.org/doc/scipy/reference/generated/scipy.optimize.brentq.html#scipy.optimize.brentq) to calculate $T_{dust}$. After that, try calculating $T_{dust}$ for a range of $n_{H}$ from $1\\ cm^{-3}$ to $10^{13} cm^{-3}$ and plotting $T_{dust}$ vs. $n_{H}$."
   ]
  },
  {
   "cell_type": "code",
   "execution_count": null,
   "metadata": {},
   "outputs": [],
   "source": [
    "import scipy.optimize as opt"
   ]
  },
  {
   "cell_type": "code",
   "execution_count": null,
   "metadata": {},
   "outputs": [],
   "source": []
  },
  {
   "cell_type": "code",
   "execution_count": null,
   "metadata": {},
   "outputs": [],
   "source": [
    "# Try a range of nH values.\n",
    "nH = np.logspace(0, 13, 100)"
   ]
  },
  {
   "cell_type": "code",
   "execution_count": null,
   "metadata": {},
   "outputs": [],
   "source": []
  },
  {
   "cell_type": "code",
   "execution_count": null,
   "metadata": {
    "nbgrader": {
     "grade": false,
     "grade_id": "cell-3a614ec921a2a1ea",
     "locked": true,
     "schema_version": 1,
     "solution": false
    }
   },
   "outputs": [],
   "source": [
    "from matplotlib import pyplot as plt\n",
    "%matplotlib inline"
   ]
  },
  {
   "cell_type": "code",
   "execution_count": null,
   "metadata": {
    "nbgrader": {
     "grade": false,
     "grade_id": "cell-0ed452f45eb44fab",
     "locked": true,
     "schema_version": 1,
     "solution": false
    }
   },
   "outputs": [],
   "source": [
    "plt.rcParams['figure.figsize'] = (10, 6)\n",
    "plt.rcParams['font.size'] = 14"
   ]
  },
  {
   "cell_type": "code",
   "execution_count": null,
   "metadata": {},
   "outputs": [],
   "source": [
    "# plot Tdust vs. nH\n",
    "plt.semilogx(nH, Tdust)\n",
    "plt.xlabel('$n_{H}$ $cm^{-3}$')\n",
    "plt.ylabel('$T_{dust}$ $K$')"
   ]
  }
 ],
 "metadata": {
  "celltoolbar": "Create Assignment",
  "kernelspec": {
   "display_name": "Python 3",
   "language": "python",
   "name": "python3"
  },
  "language_info": {
   "codemirror_mode": {
    "name": "ipython",
    "version": 3
   },
   "file_extension": ".py",
   "mimetype": "text/x-python",
   "name": "python",
   "nbconvert_exporter": "python",
   "pygments_lexer": "ipython3",
   "version": "3.7.0"
  }
 },
 "nbformat": 4,
 "nbformat_minor": 2
}
