{
 "cells": [
  {
   "cell_type": "markdown",
   "metadata": {
    "nbgrader": {
     "grade": false,
     "grade_id": "cell-d7446457cde001b4",
     "locked": true,
     "schema_version": 1,
     "solution": false
    }
   },
   "source": [
    "# Numerical Recipes Workshop 2\n",
    "For the week of 30 September to 4 October, 2019\n",
    "\n",
    "These activities will start with some basics of NumPy array and matrix manipulation, then introduce some methods for computing eigenvalues/eigenvectors.\n",
    "\n",
    "**This notebook does not need to be handed in.**"
   ]
  },
  {
   "cell_type": "markdown",
   "metadata": {
    "nbgrader": {
     "grade": false,
     "grade_id": "cell-889da6d593b9ee72",
     "locked": true,
     "schema_version": 1,
     "solution": false
    }
   },
   "source": [
    "## Array Manipulation\n",
    "\n",
    "NumPy offers very powerful tools for easily and quickly selecting from, operating on, and manipulating arrays."
   ]
  },
  {
   "cell_type": "code",
   "execution_count": 5,
   "metadata": {
    "nbgrader": {
     "grade": false,
     "grade_id": "cell-349099e797868cf2",
     "locked": true,
     "schema_version": 1,
     "solution": false
    }
   },
   "outputs": [],
   "source": [
    "import numpy as np"
   ]
  },
  {
   "cell_type": "markdown",
   "metadata": {
    "nbgrader": {
     "grade": false,
     "grade_id": "cell-4534b3397c998da8",
     "locked": true,
     "schema_version": 1,
     "solution": false
    }
   },
   "source": [
    "### Negative Indexing\n",
    "\n",
    "Consider an array, `x`, of integers ranging from 1 to N-1. You have already seen that doing `x[i]` will return the i'th value of the array. NumPy arrays can also be indexed with negative numbers. Try this below and see what you get."
   ]
  },
  {
   "cell_type": "code",
   "execution_count": 6,
   "metadata": {
    "nbgrader": {
     "grade": false,
     "grade_id": "cell-5859d31eaf3f7726",
     "locked": true,
     "schema_version": 1,
     "solution": false
    }
   },
   "outputs": [],
   "source": [
    "x = np.arange(100)"
   ]
  },
  {
   "cell_type": "code",
   "execution_count": 7,
   "metadata": {},
   "outputs": [
    {
     "name": "stdout",
     "output_type": "stream",
     "text": [
      "95\n"
     ]
    }
   ],
   "source": [
    "print(x[-5])"
   ]
  },
  {
   "cell_type": "markdown",
   "metadata": {
    "nbgrader": {
     "grade": false,
     "grade_id": "cell-d8e67ec0ca8e80ad",
     "locked": true,
     "schema_version": 1,
     "solution": false
    }
   },
   "source": [
    "### Slicing\n",
    "\n",
    "Multiple contiguous or order array items can be accessed through the following convention:\n",
    "\n",
    "```\n",
    "x[start:stop]\n",
    "x[start:stop:step]\n",
    "x[start:] # all the way to the end\n",
    "x[:stop] # start at the beginning.\n",
    "```\n",
    "\n",
    "Try selecting every 3rd element of `x` from the 6th element up to 5th to last. Experiment with other combinations."
   ]
  },
  {
   "cell_type": "code",
   "execution_count": 10,
   "metadata": {},
   "outputs": [
    {
     "name": "stdout",
     "output_type": "stream",
     "text": [
      "[ 5  8 11 14 17 20 23 26 29 32 35 38 41 44 47 50 53 56 59 62 65 68 71 74\n",
      " 77 80 83 86 89 92 95 98]\n"
     ]
    }
   ],
   "source": [
    "print(x[5::3])"
   ]
  },
  {
   "cell_type": "markdown",
   "metadata": {
    "nbgrader": {
     "grade": false,
     "grade_id": "cell-7be8b5b462ce54a8",
     "locked": true,
     "schema_version": 1,
     "solution": false
    }
   },
   "source": [
    "### Boolean Indexing\n",
    "\n",
    "One of the most powerful features of NumPy arrays is the ability to quickly locate all values in array satisfying a given condition.\n",
    "\n",
    "The statement below will return a Boolean (True or False) array showing all the locations in the array where the condition is and is not met.\n",
    "\n",
    "```\n",
    "x = np.arange(10)\n",
    "print(x > 5)\n",
    "```\n",
    "Try this."
   ]
  },
  {
   "cell_type": "code",
   "execution_count": 14,
   "metadata": {},
   "outputs": [
    {
     "name": "stdout",
     "output_type": "stream",
     "text": [
      "[0 1 2 3 4 5 6 7 8 9]\n",
      "[False False False False False False  True  True  True  True]\n",
      "[6 7 8 9]\n"
     ]
    }
   ],
   "source": [
    "x = np.arange(10)\n",
    "print(x)\n",
    "print(x>5)\n",
    "print(x[x > 5])"
   ]
  },
  {
   "cell_type": "markdown",
   "metadata": {
    "nbgrader": {
     "grade": false,
     "grade_id": "cell-1d65f3eb7c4d57ba",
     "locked": true,
     "schema_version": 1,
     "solution": false
    }
   },
   "source": [
    "This array can be then be used access all of the values where the condition is True. For example,\n",
    "\n",
    "```\n",
    "print(x[x > 5])\n",
    "```\n",
    "\n",
    "The Boolean array can be used with any array of the same shape.\n",
    "\n",
    "```\n",
    "y = 10 * np.arange(10)\n",
    "print (y[x > 5])\n",
    "```\n",
    "\n",
    "If the `x > 5` array is to be used more than once, it is best practice to save it to a variable so it does not have to be recomputed each time.\n",
    "\n",
    "```\n",
    "b = x > 5\n",
    "print (x[b])\n",
    "print (y[b])\n",
    "```\n",
    "\n",
    "Try this here to see what it looks like."
   ]
  },
  {
   "cell_type": "code",
   "execution_count": 17,
   "metadata": {},
   "outputs": [
    {
     "name": "stdout",
     "output_type": "stream",
     "text": [
      "[60 70 80 90]\n",
      "[6 7 8 9]\n",
      "[60 70 80 90]\n"
     ]
    }
   ],
   "source": [
    "y = 10 * np.arange(10)\n",
    "print(y[x > 5])\n",
    "\n",
    "b = x > 5\n",
    "print (x[b])\n",
    "print (y[b])"
   ]
  },
  {
   "cell_type": "markdown",
   "metadata": {
    "nbgrader": {
     "grade": false,
     "grade_id": "cell-17e1a1756332c0fa",
     "locked": true,
     "schema_version": 1,
     "solution": false
    }
   },
   "source": [
    "### And and Or\n",
    "\n",
    "The `&` (and) and `|` (or) symbols can be used to combine multiple expressions.\n",
    "\n",
    "```\n",
    "# greater than 2 and less than 8\n",
    "print(x[(x > 2) & (x < 8)])\n",
    "# less than or equal to 2 or greater than or equal to 8\n",
    "print(x[(x <= 2) | (x >= 8)])\n",
    "```\n",
    "\n",
    "Try it!"
   ]
  },
  {
   "cell_type": "code",
   "execution_count": 23,
   "metadata": {},
   "outputs": [
    {
     "name": "stdout",
     "output_type": "stream",
     "text": [
      "[3 4 5 6 7]\n",
      "[0 1 2 8 9]\n"
     ]
    }
   ],
   "source": [
    "print(x[(x > 2) & (x < 8)])\n",
    "print(x[(x <= 2) | (x >= 8)])\n",
    "\n"
   ]
  },
  {
   "cell_type": "markdown",
   "metadata": {
    "nbgrader": {
     "grade": false,
     "grade_id": "cell-4c17aad8c5bc486c",
     "locked": true,
     "schema_version": 1,
     "solution": false
    }
   },
   "source": [
    "Take the array below of 100 random values in the range [0, 1) and calculating the number of values between 0.2 and 0.8 in just one line of code. Hint: when doing arithmetic on Boolean arrays, True and False are equivalent to 1 and 0."
   ]
  },
  {
   "cell_type": "code",
   "execution_count": 32,
   "metadata": {
    "nbgrader": {
     "grade": false,
     "grade_id": "cell-d24fffa8bfd89b54",
     "locked": true,
     "schema_version": 1,
     "solution": false
    }
   },
   "outputs": [],
   "source": [
    "randx = np.random.random(100)"
   ]
  },
  {
   "cell_type": "code",
   "execution_count": 33,
   "metadata": {},
   "outputs": [
    {
     "name": "stdout",
     "output_type": "stream",
     "text": [
      "53\n"
     ]
    }
   ],
   "source": [
    "print(len(randx[(randx > 0.2) & (randx < 0.8)]))"
   ]
  },
  {
   "cell_type": "markdown",
   "metadata": {
    "nbgrader": {
     "grade": false,
     "grade_id": "cell-b438ada8ad2d78b8",
     "locked": true,
     "schema_version": 1,
     "solution": false
    }
   },
   "source": [
    "## Multidimensional Arrays\n",
    "\n",
    "NumPy supports arrays of arbitrary dimension. Some of the array generation functions introduced previously allow for an array shape to be given instead of a just a size. For example,\n",
    "\n",
    "```\n",
    "x = np.ones((3, 5))\n",
    "print(x)\n",
    "```\n",
    "\n",
    "Note the extra parentheses. The argument being given to `np.ones` is `(3, 5)`, not two arguments that are 3 and 5.\n",
    "\n",
    "An array's shape and size can be found in the following way.\n",
    "\n",
    "```\n",
    "print(x.shape)\n",
    "print(x.size)\n",
    "```\n",
    "\n",
    "Note the difference between the two.\n",
    "\n",
    "Try it!"
   ]
  },
  {
   "cell_type": "code",
   "execution_count": 38,
   "metadata": {},
   "outputs": [
    {
     "name": "stdout",
     "output_type": "stream",
     "text": [
      "[[1. 1. 1. 1. 1.]\n",
      " [1. 1. 1. 1. 1.]\n",
      " [1. 1. 1. 1. 1.]]\n",
      "(3, 5)\n",
      "15\n"
     ]
    }
   ],
   "source": [
    "x = np.ones((3, 5))\n",
    "print(x)\n",
    "print(x.shape)\n",
    "print(x.size)"
   ]
  },
  {
   "cell_type": "markdown",
   "metadata": {
    "nbgrader": {
     "grade": false,
     "grade_id": "cell-7dcff2923530f1d2",
     "locked": true,
     "schema_version": 1,
     "solution": false
    }
   },
   "source": [
    "### Accessing and Slicing Multidimensional Arrays\n",
    "\n",
    "Consider the following 2D array:\n",
    "\n",
    "```\n",
    "x = np.arange(15)\n",
    "x = np.reshape(x, (3, 5))\n",
    "```\n",
    "\n",
    "The value in the i'th row and j'th column:\n",
    "\n",
    "```\n",
    "x[i,j]\n",
    "```\n",
    "\n",
    "The entire i'th row:\n",
    "\n",
    "```\n",
    "x[i]\n",
    "```\n",
    "\n",
    "The entire j'th column:\n",
    "\n",
    "```\n",
    "x[:, j]\n",
    "```\n",
    "\n",
    "The `[start:stop:step]` slicing can also be used.\n",
    "```\n",
    "print (x[1:3, 2:4])\n",
    "```\n",
    "\n",
    "Try it!"
   ]
  },
  {
   "cell_type": "code",
   "execution_count": 39,
   "metadata": {
    "nbgrader": {
     "grade": false,
     "grade_id": "cell-3810d7595602c0f6",
     "locked": true,
     "schema_version": 1,
     "solution": false
    }
   },
   "outputs": [],
   "source": [
    "x = np.arange(15)\n",
    "x = np.reshape(x, (3, 5))"
   ]
  },
  {
   "cell_type": "code",
   "execution_count": 58,
   "metadata": {},
   "outputs": [
    {
     "name": "stdout",
     "output_type": "stream",
     "text": [
      "[[ 0  1  2  3  4]\n",
      " [ 5  6  7  8  9]\n",
      " [10 11 12 13 14]]\n",
      "[ 2  7 12]\n",
      "[[ 0  1  2]\n",
      " [ 5  6  7]\n",
      " [10 11 12]]\n"
     ]
    }
   ],
   "source": [
    "print(x)\n",
    "print(x[:,2])\n",
    "print(x[0:3, 0:3])"
   ]
  },
  {
   "cell_type": "markdown",
   "metadata": {
    "nbgrader": {
     "grade": false,
     "grade_id": "cell-7d851e96fc9a6fe5",
     "locked": true,
     "schema_version": 1,
     "solution": false
    }
   },
   "source": [
    "### Array Multiplication vs. Matrix Multiplication\n",
    "\n",
    "Arithmetic operations can be performed on N-dimensional NumPy arrays as long as the first N-1 dimensions are the same shape.\n",
    "\n",
    "```\n",
    "x = 2 * np.ones((3, 3))\n",
    "y = np.reshape(np.arange(9), (3, 3))\n",
    "print(x * y)\n",
    "```\n",
    "\n",
    "However, the above operation is **NOT** matrix multiplication. In the above, if `z = x * y`, then `z[i,j]` will be `x[i, j] * y[i,j]`.\n",
    "\n",
    "Matrix multiplication can be done with the `np.dot` function.\n",
    "```\n",
    "print(np.dot(x, y))\n",
    "```\n",
    "\n",
    "Try it out."
   ]
  },
  {
   "cell_type": "code",
   "execution_count": 63,
   "metadata": {},
   "outputs": [
    {
     "name": "stdout",
     "output_type": "stream",
     "text": [
      "[[2. 2. 2.]\n",
      " [2. 2. 2.]\n",
      " [2. 2. 2.]]\n",
      "[[0 1 2]\n",
      " [3 4 5]\n",
      " [6 7 8]]\n",
      "[[ 0.  2.  4.]\n",
      " [ 6.  8. 10.]\n",
      " [12. 14. 16.]]\n",
      "[[18. 24. 30.]\n",
      " [18. 24. 30.]\n",
      " [18. 24. 30.]]\n"
     ]
    }
   ],
   "source": [
    "x = 2 * np.ones((3, 3))\n",
    "y = np.reshape(np.arange(9), (3, 3))\n",
    "print(x)\n",
    "print(y)\n",
    "print(x*y) #multiplies each element\n",
    "print(np.dot(x, y)) #matrix multiplcation"
   ]
  },
  {
   "cell_type": "markdown",
   "metadata": {
    "nbgrader": {
     "grade": false,
     "grade_id": "cell-535ab0d1700a1bb7",
     "locked": true,
     "schema_version": 1,
     "solution": false
    }
   },
   "source": [
    "## Computing Eigenvalues\n",
    "\n",
    "The [numpy.linalg](https://docs.scipy.org/doc/numpy/reference/routines.linalg.html) library contains a number of useful matrix operations. Most relevantly, the [numpy.linalg.eig](https://docs.scipy.org/doc/numpy/reference/generated/numpy.linalg.eig.html#numpy.linalg.eig) function can be used for computing the eigenvalues and eigenvectors of a square matrix.\n",
    "\n",
    "### Fun with symmetric matrices\n",
    "\n",
    "Symmetric matrices (where `x[i,j]` = `x[j,i]`) have an interesting property where a histogram of all eigenvalues looks like a semi-circle. Let's demonstrate this.\n",
    "\n",
    "#### Creating a symmetric array\n",
    "\n",
    "A symmetric array can be easily created by creating an array of random values and adding it to its transpose.\n",
    "\n",
    "```\n",
    "N = 5\n",
    "x = np.random.random((N, N))\n",
    "xsym = x + x.T\n",
    "```\n",
    "\n",
    "We'll do some additional normalization to limit the range of the eigenvalues.\n",
    "\n",
    "```\n",
    "xsym -= xsym.mean()\n",
    "xsym /= np.sqrt(N)\n",
    "```\n",
    "\n",
    "Let's verify that it is symmetric.\n",
    "\n",
    "```\n",
    "(xsym == xsym.T).all()\n",
    "```\n",
    "\n",
    "Do these steps below. Feel free to do them in separate cells."
   ]
  },
  {
   "cell_type": "code",
   "execution_count": 142,
   "metadata": {},
   "outputs": [],
   "source": [
    "N = \n",
    "x = np.random.random((N, N))\n",
    "xsym = x + x.T"
   ]
  },
  {
   "cell_type": "code",
   "execution_count": 143,
   "metadata": {},
   "outputs": [],
   "source": [
    "xsym -= xsym.mean()\n",
    "xsym /= np.sqrt(N)"
   ]
  },
  {
   "cell_type": "code",
   "execution_count": 144,
   "metadata": {},
   "outputs": [
    {
     "data": {
      "text/plain": [
       "True"
      ]
     },
     "execution_count": 144,
     "metadata": {},
     "output_type": "execute_result"
    }
   ],
   "source": [
    "(xsym == xsym.T).all()"
   ]
  },
  {
   "cell_type": "markdown",
   "metadata": {
    "nbgrader": {
     "grade": false,
     "grade_id": "cell-4d5da49b1489be05",
     "locked": true,
     "schema_version": 1,
     "solution": false
    }
   },
   "source": [
    "#### Compute the eigenvalues\n",
    "\n",
    "Now use the `eig` function to get the eigenvalues and eigenvectors.\n",
    "\n",
    "```\n",
    "from numpy import linalg as LA\n",
    "evals, evecs = LA.eig(xsym)\n",
    "```\n",
    "\n",
    "Now, confirm that this satisfies the properties of eigenvalues/vectors.\n",
    "\n",
    "$\n",
    "\\begin{align}\n",
    "\\large\n",
    "A \\mathbf{X} = \\lambda \\mathbf{X}\n",
    "\\end{align}\n",
    "$\n",
    "\n",
    "```\n",
    "print (np.dot(xsym, evecs) - evals * evecs))\n",
    "```\n",
    "\n",
    "Note, the values are not exactly zero, but pretty close!"
   ]
  },
  {
   "cell_type": "code",
   "execution_count": 145,
   "metadata": {
    "nbgrader": {
     "grade": false,
     "grade_id": "cell-ed495ebc78878e68",
     "locked": true,
     "schema_version": 1,
     "solution": false
    }
   },
   "outputs": [],
   "source": [
    "from numpy import linalg as LA\n",
    "evals, evecs = LA.eig(xsym)"
   ]
  },
  {
   "cell_type": "code",
   "execution_count": 146,
   "metadata": {},
   "outputs": [
    {
     "name": "stdout",
     "output_type": "stream",
     "text": [
      "[[-3.03576608e-16 -4.59701721e-17 -1.20563282e-16 ... -1.09165606e-17\n",
      "  -1.08081404e-17 -1.11050255e-17]\n",
      " [ 3.46944695e-18  2.23779328e-16 -9.54097912e-18 ...  4.18595212e-17\n",
      "   3.20076810e-17  1.14925430e-17]\n",
      " [ 1.38777878e-17  3.46944695e-18  1.70002901e-16 ... -2.14672030e-17\n",
      "   2.65358482e-17  2.61919528e-17]\n",
      " ...\n",
      " [-6.59194921e-17  1.02348685e-16  1.04083409e-16 ... -3.88957529e-18\n",
      "  -1.27258230e-17  3.21059368e-17]\n",
      " [-1.14491749e-16 -1.30104261e-16 -3.12250226e-17 ...  3.49197803e-17\n",
      "   1.50153531e-17 -2.18670026e-17]\n",
      " [ 1.38777878e-17  2.67147415e-16 -1.17961196e-16 ... -1.13570178e-17\n",
      "   8.93450353e-18  1.89057754e-17]]\n"
     ]
    }
   ],
   "source": [
    "print ((np.dot(xsym, evecs) - evals * evecs)) #satisfies above equation but dont quite go to zero"
   ]
  },
  {
   "cell_type": "markdown",
   "metadata": {
    "nbgrader": {
     "grade": false,
     "grade_id": "cell-03a6fe6c1924e8f3",
     "locked": true,
     "schema_version": 1,
     "solution": false
    }
   },
   "source": [
    "#### Plot the eigenvalues\n",
    "\n",
    "Plot a histogram of the eigenvalues.\n",
    "\n",
    "```\n",
    "hist, bins = np.histogram(evals, bins=min(10, N//50), density=True)\n",
    "\n",
    "plt.bar(bins[:-1], hist, width=(bins[1]-bins[0]))\n",
    "```"
   ]
  },
  {
   "cell_type": "code",
   "execution_count": 147,
   "metadata": {
    "nbgrader": {
     "grade": false,
     "grade_id": "cell-e5e0f31b38bfba50",
     "locked": true,
     "schema_version": 1,
     "solution": false
    }
   },
   "outputs": [],
   "source": [
    "from matplotlib import pyplot as plt\n",
    "%matplotlib inline"
   ]
  },
  {
   "cell_type": "code",
   "execution_count": 148,
   "metadata": {
    "nbgrader": {
     "grade": false,
     "grade_id": "cell-8fdc4a94e65eb705",
     "locked": true,
     "schema_version": 1,
     "solution": false
    }
   },
   "outputs": [],
   "source": [
    "plt.rcParams['figure.figsize'] = (10, 6)\n",
    "plt.rcParams['font.size'] = 14"
   ]
  },
  {
   "cell_type": "code",
   "execution_count": 150,
   "metadata": {},
   "outputs": [
    {
     "data": {
      "text/plain": [
       "<Container object of 40 artists>"
      ]
     },
     "execution_count": 150,
     "metadata": {},
     "output_type": "execute_result"
    },
    {
     "data": {
      "image/png": "[encoded data removed]",
      "text/plain": [
       "<matplotlib.figure.Figure at 0x1198063d0>"
      ]
     },
     "metadata": {},
     "output_type": "display_data"
    }
   ],
   "source": [
    "hist, bins = np.histogram(evals, bins=N//50, density=True)\n",
    "\n",
    "plt.bar(bins[:-1], hist, width=(bins[1]-bins[0]))"
   ]
  },
  {
   "cell_type": "markdown",
   "metadata": {
    "nbgrader": {
     "grade": false,
     "grade_id": "cell-6cb3a648b4ddba09",
     "locked": true,
     "schema_version": 1,
     "solution": false
    }
   },
   "source": [
    "If that looks unsatisfying, try a larger matrix."
   ]
  },
  {
   "cell_type": "markdown",
   "metadata": {
    "nbgrader": {
     "grade": false,
     "grade_id": "cell-2257336ffdcf9ae2",
     "locked": true,
     "schema_version": 1,
     "solution": false
    }
   },
   "source": [
    "## Sparse Matrices\n",
    "\n",
    "Notice how the computation time increases when calculating eigenvalues for larger matrices. The memory usage is also rising. However, sparse matrices are mostly filled with zeros. Hence, they can be stored in various compressed format to decrease the amount of memory and computation required. Scipy's [sparse matrices module](https://docs.scipy.org/doc/scipy/reference/sparse.html) provides functionality for creating and operating on sparse matrices. In particular, the [sparse linear algebra](https://docs.scipy.org/doc/scipy/reference/sparse.linalg.html#module-scipy.sparse.linalg) module provides optimized routines for computations with sparse matrices.\n",
    "\n",
    "Below, we will calculate the eigenvalues of 1-D Laplacian matrix."
   ]
  },
  {
   "cell_type": "code",
   "execution_count": 158,
   "metadata": {
    "nbgrader": {
     "grade": false,
     "grade_id": "cell-06acc8b6d5b7c667",
     "locked": true,
     "schema_version": 1,
     "solution": false
    }
   },
   "outputs": [],
   "source": [
    "from scipy.sparse import diags\n",
    "from scipy.sparse.linalg import eigs"
   ]
  },
  {
   "cell_type": "code",
   "execution_count": 159,
   "metadata": {},
   "outputs": [],
   "source": [
    "N = 1000"
   ]
  },
  {
   "cell_type": "code",
   "execution_count": 176,
   "metadata": {},
   "outputs": [],
   "source": [
    "diagonals = [np.full((N),  -2),\n",
    "             np.full((N-1), 1),\n",
    "             np.full((N-1), 1)]\n",
    "\n",
    "hh = diags(diagonals, [0, -1, 1])"
   ]
  },
  {
   "cell_type": "markdown",
   "metadata": {
    "nbgrader": {
     "grade": false,
     "grade_id": "cell-12260edebe7515c3",
     "locked": true,
     "schema_version": 1,
     "solution": false
    }
   },
   "source": [
    "Try printing out `hh` to get a sense of how scipy stores this as a sparse matrix. Try `hh.toarray()` to see it in a more familiar way."
   ]
  },
  {
   "cell_type": "code",
   "execution_count": 185,
   "metadata": {},
   "outputs": [
    {
     "name": "stdout",
     "output_type": "stream",
     "text": [
      "  (0, 0)\t-2.0\n",
      "  (1, 1)\t-2.0\n",
      "  (2, 2)\t-2.0\n",
      "  (3, 3)\t-2.0\n",
      "  (4, 4)\t-2.0\n",
      "  (5, 5)\t-2.0\n",
      "  (6, 6)\t-2.0\n",
      "  (7, 7)\t-2.0\n",
      "  (8, 8)\t-2.0\n",
      "  (9, 9)\t-2.0\n",
      "  (10, 10)\t-2.0\n",
      "  (11, 11)\t-2.0\n",
      "  (12, 12)\t-2.0\n",
      "  (13, 13)\t-2.0\n",
      "  (14, 14)\t-2.0\n",
      "  (15, 15)\t-2.0\n",
      "  (16, 16)\t-2.0\n",
      "  (17, 17)\t-2.0\n",
      "  (18, 18)\t-2.0\n",
      "  (19, 19)\t-2.0\n",
      "  (20, 20)\t-2.0\n",
      "  (21, 21)\t-2.0\n",
      "  (22, 22)\t-2.0\n",
      "  (23, 23)\t-2.0\n",
      "  (24, 24)\t-2.0\n",
      "  :\t:\n",
      "  (974, 975)\t1.0\n",
      "  (975, 976)\t1.0\n",
      "  (976, 977)\t1.0\n",
      "  (977, 978)\t1.0\n",
      "  (978, 979)\t1.0\n",
      "  (979, 980)\t1.0\n",
      "  (980, 981)\t1.0\n",
      "  (981, 982)\t1.0\n",
      "  (982, 983)\t1.0\n",
      "  (983, 984)\t1.0\n",
      "  (984, 985)\t1.0\n",
      "  (985, 986)\t1.0\n",
      "  (986, 987)\t1.0\n",
      "  (987, 988)\t1.0\n",
      "  (988, 989)\t1.0\n",
      "  (989, 990)\t1.0\n",
      "  (990, 991)\t1.0\n",
      "  (991, 992)\t1.0\n",
      "  (992, 993)\t1.0\n",
      "  (993, 994)\t1.0\n",
      "  (994, 995)\t1.0\n",
      "  (995, 996)\t1.0\n",
      "  (996, 997)\t1.0\n",
      "  (997, 998)\t1.0\n",
      "  (998, 999)\t1.0\n"
     ]
    }
   ],
   "source": [
    "print(hh)"
   ]
  },
  {
   "cell_type": "markdown",
   "metadata": {
    "nbgrader": {
     "grade": false,
     "grade_id": "cell-a4549697ddb38a43",
     "locked": true,
     "schema_version": 1,
     "solution": false
    }
   },
   "source": [
    "Now, calculate the eigenvalues."
   ]
  },
  {
   "cell_type": "code",
   "execution_count": 169,
   "metadata": {},
   "outputs": [
    {
     "name": "stdout",
     "output_type": "stream",
     "text": [
      "-3.99999015011325\n",
      "('exact lowest value = ', -3.999990150113323)\n"
     ]
    }
   ],
   "source": [
    "vv, ww = eigs(hh, k=min(10, N-2), which=\"LM\")\n",
    "E = np.sort(np.real(vv))\n",
    "print(E[0])\n",
    "\n",
    "print(\"exact lowest value = \", 2*(np.cos(np.pi*N/(N+1))-1))"
   ]
  },
  {
   "cell_type": "markdown",
   "metadata": {
    "nbgrader": {
     "grade": false,
     "grade_id": "cell-0a7e136e0a91eff6",
     "locked": true,
     "schema_version": 1,
     "solution": false
    }
   },
   "source": [
    "Use the timing framework below to experiment with different values of `N` (matrix size) or `k` (number of eigenvalues calculated). How does the algorithm scale with `N` and `k`?"
   ]
  },
  {
   "cell_type": "code",
   "execution_count": 12,
   "metadata": {
    "nbgrader": {
     "grade": false,
     "grade_id": "cell-e40b27114f88a3d0",
     "locked": true,
     "schema_version": 1,
     "solution": false
    }
   },
   "outputs": [],
   "source": [
    "import time"
   ]
  },
  {
   "cell_type": "code",
   "execution_count": 13,
   "metadata": {},
   "outputs": [
    {
     "name": "stdout",
     "output_type": "stream",
     "text": [
      "5.29289245605e-05\n"
     ]
    }
   ],
   "source": [
    "# time something!\n",
    "t1 = time.time()\n",
    "# do something!\n",
    "t2 = time.time()\n",
    "print (t2-t1)"
   ]
  },
  {
   "cell_type": "code",
   "execution_count": null,
   "metadata": {},
   "outputs": [],
   "source": []
  },
  {
   "cell_type": "code",
   "execution_count": null,
   "metadata": {},
   "outputs": [],
   "source": []
  }
 ],
 "metadata": {
  "celltoolbar": "Create Assignment",
  "kernelspec": {
   "display_name": "Python 3",
   "language": "python",
   "name": "python3"
  },
  "language_info": {
   "codemirror_mode": {
    "name": "ipython",
    "version": 2
   },
   "file_extension": ".py",
   "mimetype": "text/x-python",
   "name": "python",
   "nbconvert_exporter": "python",
   "pygments_lexer": "ipython2",
   "version": "2.7.14"
  }
 },
 "nbformat": 4,
 "nbformat_minor": 2
}
