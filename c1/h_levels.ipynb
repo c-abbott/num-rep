{
 "cells": [
  {
   "cell_type": "markdown",
   "metadata": {
    "deletable": false,
    "editable": false,
    "nbgrader": {
     "checksum": "315fee087a8e8665b302ad7e9b4ed014",
     "grade": false,
     "grade_id": "cell-f929f0b429c2f9f2",
     "locked": true,
     "schema_version": 1,
     "solution": false
    }
   },
   "source": [
    "# Checkpoint 1\n",
    "\n",
    "### Read This First\n",
    "**1. Use the constants provided in the cell below. Do not use your own constants.**\n",
    "\n",
    "**2. Put the code that produces the output for a given task in the specific cell indicated. You are welcome to add as many cells as you like for imports, function definitions, variables, etc. Additional cells need to be in the proper order such that your code runs the first time through.**"
   ]
  },
  {
   "cell_type": "markdown",
   "metadata": {
    "deletable": false,
    "editable": false,
    "nbgrader": {
     "checksum": "690bf3368d24b1328b5419916644b63a",
     "grade": false,
     "grade_id": "cell-00b461b536baa8b0",
     "locked": true,
     "schema_version": 1,
     "solution": false
    }
   },
   "source": [
    "The Coulomb law is given by:\n",
    "\n",
    "$\n",
    "\\Large\n",
    "\\begin{align}\n",
    "F(r) = -\\frac{e^{2}}{4 \\pi \\epsilon_{0} r^{2}} \\left( \\frac{r}{r_{0}} \\right)^{\\alpha},\n",
    "\\end{align}\n",
    "$\n",
    "\n",
    "where $r_{0}$ is the Bhor radius, given by:\n",
    "\n",
    "$\n",
    "\\Large\n",
    "\\begin{align}\n",
    "r_{0} = \\frac{4 \\pi \\epsilon_{0} \\hbar^{2}}{m e^{2}}.\n",
    "\\end{align}\n",
    "$\n",
    "\n",
    "The electric potential is given by:\n",
    "\n",
    "$\n",
    "\\Large\n",
    "\\begin{align}\n",
    "V(r) = \\int_{r}^{\\infty} F(r^{\\prime}) dr^{\\prime}\n",
    "\\end{align}\n",
    "$\n",
    "\n",
    "Use the following constants:\n",
    "* $\\frac{\\hbar^{2}}{2m} = 0.0380998\\ nm^{2} eV$ (called `c1` below)\n",
    "* $\\frac{e^{2}}{4 \\pi \\epsilon_{0}} = 1.43996\\ nm\\ eV$ (called `c2` below)\n",
    "* $r_{0} = 0.0529177\\ nm$ (called `r0` below)\n",
    "* Planck constant $h = 6.62606896\\times10^{-34} J s$ (`h`)\n",
    "* Speed of light $c = 299792458\\ m/s$ (`c`)"
   ]
  },
  {
   "cell_type": "code",
   "execution_count": 2,
   "metadata": {},
   "outputs": [],
   "source": [
    "# add imports here\n",
    "import numpy as np\n",
    "import matplotlib.pyplot as plt\n",
    "%matplotlib inline\n",
    "from scipy.integrate import quad\n",
    "from scipy.linalg import eigvalsh_tridiagonal\n",
    "from scipy.stats import linregress"
   ]
  },
  {
   "cell_type": "code",
   "execution_count": 3,
   "metadata": {
    "deletable": false,
    "editable": false,
    "nbgrader": {
     "checksum": "b6790997617156b5781458cf46b3754a",
     "grade": false,
     "grade_id": "cell-9913456206f72bf7",
     "locked": true,
     "schema_version": 1,
     "solution": false
    }
   },
   "outputs": [],
   "source": [
    "plt.rcParams['figure.figsize'] = (10, 6)\n",
    "plt.rcParams['font.size'] = 14"
   ]
  },
  {
   "cell_type": "code",
   "execution_count": 4,
   "metadata": {
    "deletable": false,
    "editable": false,
    "nbgrader": {
     "checksum": "496109a24e55b81c1ad0f8e4711ea518",
     "grade": false,
     "grade_id": "cell-c66763620c79f017",
     "locked": true,
     "schema_version": 1,
     "solution": false
    }
   },
   "outputs": [],
   "source": [
    "# Constants (use these)\n",
    "c1 = 0.0380998 # nm^2 eV\n",
    "c2 = 1.43996 # nm eV\n",
    "r0 = 0.0529177 # nm\n",
    "h  = 6.62606896e-34 # J s\n",
    "c  = 299792458. # m/s\n",
    "hc = 1239.8419 # eV nm"
   ]
  },
  {
   "cell_type": "markdown",
   "metadata": {
    "deletable": false,
    "editable": false,
    "nbgrader": {
     "checksum": "b4b7d541abd01c304207a86df9f580d5",
     "grade": false,
     "grade_id": "cell-ddbd12299834bcf9",
     "locked": true,
     "schema_version": 1,
     "solution": false
    }
   },
   "source": [
    "## Task 1\n",
    "\n",
    "Write a code that calculates $V(r)$ numerically for $\\alpha = 0.01$ and plots it for $r$ = 0.01...1 nm. Remember to label the axes."
   ]
  },
  {
   "cell_type": "code",
   "execution_count": 5,
   "metadata": {
    "deletable": false,
    "nbgrader": {
     "checksum": "9a15fb93db84d9570695742ee70e4642",
     "grade": false,
     "grade_id": "cell-19b61f45c0da77f1",
     "locked": false,
     "schema_version": 1,
     "solution": true
    }
   },
   "outputs": [],
   "source": [
    "def get_force(r, alpha=0):\n",
    "    \"\"\"\n",
    "    Method: calculates the electrostatic force between a proton and\n",
    "    an electron with charge ±e respectively\n",
    "\n",
    "    :param r:  radial distance\n",
    "    :param alpha:  perturbation\n",
    "    :return force: value for force as a float\n",
    "    \"\"\"\n",
    "    force = -c2 * 1 / (r)**2 * (r / r0)**alpha\n",
    "    return force\n",
    "\n",
    "def potential_numerical(r, alpha=0):\n",
    "    \"\"\"\n",
    "    Method: calculates the electrostatic potential for a pairwise\n",
    "    system through the integration of the force between the pair\n",
    "\n",
    "    :param radii:  numPy array of radial distances\n",
    "    :param alpha:  perturbation\n",
    "    :return potential: numPy array of potential values\n",
    "    \"\"\"\n",
    "    potential = quad(get_force, r, np.inf, args=(alpha))[0]\n",
    "    return potential"
   ]
  },
  {
   "cell_type": "code",
   "execution_count": 34,
   "metadata": {
    "deletable": false,
    "nbgrader": {
     "checksum": "d9f32070f767e8bccf34844f6316236d",
     "grade": true,
     "grade_id": "cell-fa1faffe2cff65ce",
     "locked": false,
     "points": 1,
     "schema_version": 1,
     "solution": true
    }
   },
   "outputs": [
    {
     "data": {
      "image/png": "[encoded data removed]",
      "text/plain": [
       "<Figure size 720x432 with 1 Axes>"
      ]
     },
     "metadata": {
      "needs_background": "light"
     },
     "output_type": "display_data"
    }
   ],
   "source": [
    "N = 13000  # Number of integration steps\n",
    "radii = np.linspace(0.01, 1.5, num=N)  # Defining radial distances (rmax = 1.5nm)\n",
    "# rmax = 1.5nm gets good contribution of the energy from BOTH n=1 and n=2 energy levels\n",
    "potential = np.array([]) # Forming potential array\n",
    "for i in range(radii.size):\n",
    "    potential = np.append(potential, potential_numerical(radii[i], alpha=0)) # Getting potential\n",
    "    \n",
    "# Plotting electrostatic potential vs radial distance for H atom\n",
    "plt.title(\"Electrostatic Potential vs. Radial Distance\")\n",
    "plt.xlabel(\"Radial Distance (nm)\")\n",
    "plt.xlim(right=1.0)\n",
    "plt.ylabel(\"Potential (eV)\")\n",
    "plt.plot(radii, potential)\n",
    "plt.show()"
   ]
  },
  {
   "cell_type": "markdown",
   "metadata": {
    "deletable": false,
    "editable": false,
    "nbgrader": {
     "checksum": "92f356aa18d24393b5bec54f393da148",
     "grade": false,
     "grade_id": "cell-678a89b66171e6d3",
     "locked": true,
     "schema_version": 1,
     "solution": false
    }
   },
   "source": [
    "## Task 2\n",
    "\n",
    "In addition to (1), the test below will compare the analytic expression for $𝑉(r)$ with the numerically obtained values for $r$ = 0.01,0.02...1 nm. The biggest absolute difference $diff = max |V_{exact}(r) − V_{numerical}(r)|$ must be smaller than 10$^{−5}$ eV. There is nothing else for you to do."
   ]
  },
  {
   "cell_type": "code",
   "execution_count": 35,
   "metadata": {
    "deletable": false,
    "editable": false,
    "nbgrader": {
     "checksum": "0cb57cd809b5161814890d23cabce466",
     "grade": true,
     "grade_id": "cell-18a0198ee954ee3a",
     "locked": true,
     "points": 1,
     "schema_version": 1,
     "solution": false
    }
   },
   "outputs": [
    {
     "data": {
      "text/plain": [
       "-2.975081858428647"
      ]
     },
     "execution_count": 35,
     "metadata": {},
     "output_type": "execute_result"
    }
   ],
   "source": [
    "# We will call your function for one value of r and alpha = 0.01. There will be more tests!\n",
    "potential_numerical(0.5, 0.01)"
   ]
  },
  {
   "cell_type": "markdown",
   "metadata": {
    "deletable": false,
    "editable": false,
    "nbgrader": {
     "checksum": "c4d5ec124f352475542dbdc64f2f667e",
     "grade": false,
     "grade_id": "cell-77cc74c026259c0f",
     "locked": true,
     "schema_version": 1,
     "solution": false
    }
   },
   "source": [
    "## Task 3\n",
    "\n",
    "In addition to (2), calculate the first 2 energy levels (eigenvalues of $H$) for $\\alpha = 0, 0.01$ and print out the values in eV. The values must be accurate to 0.01 eV. This requires sufficiently large $r_{max}$ and $N$. Plot the difference $\\Delta E$ between the two energies for $\\alpha = 0, 0.01$. Remember to label the axes."
   ]
  },
  {
   "cell_type": "code",
   "execution_count": 36,
   "metadata": {
    "deletable": false,
    "nbgrader": {
     "checksum": "00698aa373d010f9dab385863172ae0a",
     "grade": false,
     "grade_id": "cell-f196598ea00db23e",
     "locked": false,
     "schema_version": 1,
     "solution": true
    }
   },
   "outputs": [],
   "source": [
    "def energy_levels(alpha):\n",
    "    \"\"\"\n",
    "    Method: determines the Hamiltonian using sparse matrices\n",
    "    where H = -hbar**2/2m * (d/dr)**2 + V(r) \n",
    "\n",
    "    :param radii: numPy array of radial distances\n",
    "    :param dr: step\n",
    "    :return E1,E2: the two lowest eigenvalues\n",
    "    \"\"\"\n",
    "    # Constructing Hamiltonian\n",
    "    dr_array = np.arange(dr, radii.size * dr + dr, dr)\n",
    "    pot_diag = np.array([])\n",
    "    for i in range(dr_array.size):\n",
    "        pot_diag = np.append(pot_diag, potential_numerical(dr_array[i], alpha))\n",
    "    \n",
    "    H_diag = (- c1 / (dr)**2) * np.full(radii.size, -2) + pot_diag \n",
    "    off_diag =(- c1 / (dr)**2)   * np.full(radii.size - 1, 1)\n",
    "    \n",
    "    # Finding eigenvalues of tridiagonal Hamiltonian matrix\n",
    "    eigvals = eigvalsh_tridiagonal(H_diag, off_diag, select='i', select_range=(0,1))\n",
    "    np.sort(np.real(eigvals))\n",
    "    E1, E2 = eigvals[0], eigvals[1]\n",
    "    return E1, E2"
   ]
  },
  {
   "cell_type": "code",
   "execution_count": 37,
   "metadata": {
    "deletable": false,
    "nbgrader": {
     "checksum": "1b2dad6e677e2420275a518b3782d203",
     "grade": true,
     "grade_id": "cell-0eb042d5e4a7759a",
     "locked": false,
     "points": 1,
     "schema_version": 1,
     "solution": true
    }
   },
   "outputs": [
    {
     "data": {
      "image/png": "[encoded data removed]",
      "text/plain": [
       "<Figure size 720x432 with 1 Axes>"
      ]
     },
     "metadata": {
      "needs_background": "light"
     },
     "output_type": "display_data"
    }
   ],
   "source": [
    "dr = max(radii)/N \n",
    "delta_E = np.array([])\n",
    "alpha_values = np.arange(0.0, 0.01, 0.001)\n",
    "\n",
    "# Calculating delta E for different alpha values\n",
    "for alpha in alpha_values:\n",
    "    E1, E2 = energy_levels(alpha)\n",
    "    delta_E = np.append(delta_E, E2-E1)\n",
    "    \n",
    "# Plotting delta_E vs. alpha   \n",
    "plt.title(\"En=2 - En=1 for the Hydrogen atom with a perturbed potential\")\n",
    "plt.xlabel(\"Alpha (Perturbation)\")\n",
    "plt.ylabel(\"Delta E (eV)\")\n",
    "plt.plot(alpha_values, delta_E)\n",
    "plt.show()\n"
   ]
  },
  {
   "cell_type": "code",
   "execution_count": 38,
   "metadata": {
    "deletable": false,
    "editable": false,
    "nbgrader": {
     "checksum": "4414341369251bf709454d02ab49bd62",
     "grade": true,
     "grade_id": "cell-fc23652c94718b32",
     "locked": true,
     "points": 1,
     "schema_version": 1,
     "solution": false
    }
   },
   "outputs": [
    {
     "name": "stdout",
     "output_type": "stream",
     "text": [
      "alpha = 0.00: (-13.605598566607691, -3.401402280845947)\n",
      "alpha = 0.01: (-13.807382891866881, -3.5346022779978856)\n"
     ]
    }
   ],
   "source": [
    "# Print out the energy levels for alpha = 0, 0.01.\n",
    "e_levels_0 = energy_levels(0.0)\n",
    "e_levels_0_01 = energy_levels(0.01)\n",
    "print (\"alpha = 0.00:\", e_levels_0)\n",
    "print (\"alpha = 0.01:\", e_levels_0_01)"
   ]
  },
  {
   "cell_type": "markdown",
   "metadata": {
    "deletable": false,
    "editable": false,
    "nbgrader": {
     "checksum": "3519e8363c45fba424468017553fd09b",
     "grade": false,
     "grade_id": "cell-547de7c76197f8d2",
     "locked": true,
     "schema_version": 1,
     "solution": false
    }
   },
   "source": [
    "## Task 4\n",
    "\n",
    "In addition to (3), assuming that the transition between the 1st excited and the ground state corresponds to the wavelength $\\lambda = 121.5 \\pm 0.1$ nm, what is the maximum value of $\\alpha_{max} > 0$ consistent with this measurement (i.e., the largest $\\alpha_{max} > 0$ such that the predicted and measured wavelengths differ by less than 0.1 nm)?"
   ]
  },
  {
   "cell_type": "code",
   "execution_count": 58,
   "metadata": {
    "deletable": false,
    "nbgrader": {
     "checksum": "1926950af1c7291299007deecdaa7d22",
     "grade": false,
     "grade_id": "cell-c0d47efa2e971212",
     "locked": false,
     "schema_version": 1,
     "solution": true
    }
   },
   "outputs": [],
   "source": [
    "def find_alpha_max():\n",
    "    # Only need delta_E_max to find alpha_max \n",
    "    # delta_E max corresponds to minimum wavelength between n=2 and n=1 levels\n",
    "    lambda_min = 121.4\n",
    "    delta_E_max = hc / lambda_min\n",
    "\n",
    "    # Finding equation of line from plot above\n",
    "    r = linregress(alpha_values, delta_E)\n",
    "    # Finding corresponding alpha_max to delta_E_max from straight line\n",
    "    alpha_max = (delta_E_max - r.intercept)/r.slope \n",
    "    return alpha_max"
   ]
  },
  {
   "cell_type": "code",
   "execution_count": 59,
   "metadata": {
    "deletable": false,
    "editable": false,
    "nbgrader": {
     "checksum": "7d93cbd02ec1b49d9f572d3b0af2654c",
     "grade": true,
     "grade_id": "cell-00bed43810c0e700",
     "locked": true,
     "points": 1,
     "schema_version": 1,
     "solution": false
    }
   },
   "outputs": [
    {
     "name": "stdout",
     "output_type": "stream",
     "text": [
      "alpha_max: 0.0012803032280778062\n"
     ]
    }
   ],
   "source": [
    "# Run the function and print alpha_max.\n",
    "alpha_max = find_alpha_max()\n",
    "print (\"alpha_max:\", alpha_max)"
   ]
  },
  {
   "cell_type": "markdown",
   "metadata": {
    "deletable": false,
    "editable": false,
    "nbgrader": {
     "checksum": "93f90de2b9e64c1d6b9c50b95e0e405b",
     "grade": false,
     "grade_id": "cell-2aaf30fbd8a5ef71",
     "locked": true,
     "schema_version": 1,
     "solution": false
    }
   },
   "source": [
    "## Task 5\n",
    "\n",
    "Improve the accuracy of the computation of the two energy levels to 0.001 eV and find $\\alpha_{max}$ assuming the wavelength $\\lambda = 121.503 \\pm 0.01$ nm."
   ]
  },
  {
   "cell_type": "code",
   "execution_count": 60,
   "metadata": {
    "deletable": false,
    "nbgrader": {
     "checksum": "86a767a9f016bd50d5f5dd011356b96a",
     "grade": false,
     "grade_id": "cell-e42b7ae120a58a99",
     "locked": false,
     "schema_version": 1,
     "solution": true
    }
   },
   "outputs": [],
   "source": [
    "### TASK 5\n",
    "def energy_levels_improved(alpha):\n",
    "    \"\"\"\n",
    "    Method: determines the Hamiltonian using sparse matrices\n",
    "    where H = -hbar**2/2m * (d/dr)**2 + V(r) \n",
    "\n",
    "    :param radii: numPy array of radial distances\n",
    "    :param dr: step\n",
    "    :return E1,E2: the two lowest eigenvalues\n",
    "    \"\"\"\n",
    "    dr_array = np.arange(dr, radii.size * dr + dr, dr)\n",
    "    pot_diag = np.array([])\n",
    "    for i in range(dr_array.size):\n",
    "        pot_diag = np.append(pot_diag, potential_numerical(dr_array[i], alpha))\n",
    "    \n",
    "    H_diag = (- c1 / (dr)**2) * np.full(radii.size, -2) + pot_diag\n",
    "    off_diag =(- c1 / (dr)**2)   * np.full(radii.size - 1, 1)\n",
    "\n",
    "    eigvals = eigvalsh_tridiagonal(H_diag, off_diag, select='i', select_range=(0,1))\n",
    "    np.sort(np.real(eigvals))\n",
    "    E1, E2 = eigvals[0], eigvals[1]\n",
    "    return E1, E2\n",
    "\n",
    "def find_alpha_max_improved():\n",
    "    # Only need delta_E_max to find alpha_max \n",
    "    # delta_E max corresponds to minimum wavelength between n=2 and n=1 levels\n",
    "    # Using old accuray of ±0.001nm as I think the code is fast enough\n",
    "    lambda_min = 121.502\n",
    "    delta_E_max = hc / lambda_min\n",
    "\n",
    "    # Finding equation of line from plot above\n",
    "    r = linregress(alpha_values, delta_E)\n",
    "    # Finding corresponding alpha_max to delta_E_max from straight line\n",
    "    alpha_max = (delta_E_max - r.intercept)/r.slope \n",
    "    return alpha_max"
   ]
  },
  {
   "cell_type": "code",
   "execution_count": 61,
   "metadata": {
    "deletable": false,
    "editable": false,
    "nbgrader": {
     "checksum": "0ebb40a99841a096d2ee12343f233354",
     "grade": true,
     "grade_id": "cell-c5e8f8c0ae2aa71f",
     "locked": true,
     "points": 1,
     "schema_version": 1,
     "solution": false
    }
   },
   "outputs": [
    {
     "name": "stdout",
     "output_type": "stream",
     "text": [
      "alpha = 0.01: (-13.807382891866881, -3.5346022779978856)\n",
      "alpha_max: 2.8704299245945143e-05\n"
     ]
    }
   ],
   "source": [
    "# Run the function and print alpha_max.\n",
    "e_levels_0_01 = energy_levels_improved(0.01)\n",
    "print (\"alpha = 0.01:\", e_levels_0_01)\n",
    "# Run the function and print alpha_max.\n",
    "alpha_max_improved = find_alpha_max_improved()\n",
    "print (\"alpha_max:\", alpha_max_improved)"
   ]
  },
  {
   "cell_type": "markdown",
   "metadata": {
    "deletable": false,
    "editable": false,
    "nbgrader": {
     "checksum": "80cecbfebef754b069b877d69559b1a2",
     "grade": false,
     "grade_id": "cell-f7de0ebd0405e762",
     "locked": true,
     "schema_version": 1,
     "solution": false
    }
   },
   "source": [
    "## Task 6\n",
    "\n",
    "How would one achieve the same accuracy with significantly smaller matrices? Hint: can we represent $R$ from Eq. (1) as a linear combination of functions that solve the \"unperturbed\" equation, and translate this into an eigenproblem for a certain $N \\times N$ matrix, with $N < 100$?"
   ]
  },
  {
   "cell_type": "code",
   "execution_count": 25,
   "metadata": {
    "deletable": false,
    "nbgrader": {
     "checksum": "9987c3035ceffbeefd59c74786feafd8",
     "grade": false,
     "grade_id": "cell-d396d5b5b764f5a8",
     "locked": false,
     "schema_version": 1,
     "solution": true
    }
   },
   "outputs": [],
   "source": [
    "### TASK 6\n",
    "def energy_levels_best(alpha):\n",
    "    # Remove the line that says \"raise NotImplementedError\"\n",
    "    # YOUR CODE HERE\n",
    "    raise NotImplementedError()\n",
    "    return E1, E2\n",
    "\n",
    "def find_alpha_max_best():\n",
    "    # Remove the line that says \"raise NotImplementedError\"\n",
    "    # YOUR CODE HERE\n",
    "    raise NotImplementedError()\n",
    "    return alpha_max"
   ]
  },
  {
   "cell_type": "code",
   "execution_count": 26,
   "metadata": {
    "deletable": false,
    "editable": false,
    "nbgrader": {
     "checksum": "cea78b0f17d8ad803a168c34f93803c7",
     "grade": true,
     "grade_id": "cell-7cad205f27680c87",
     "locked": true,
     "points": 1,
     "schema_version": 1,
     "solution": false
    }
   },
   "outputs": [
    {
     "ename": "NotImplementedError",
     "evalue": "",
     "output_type": "error",
     "traceback": [
      "\u001b[0;31m---------------------------------------------------------------------------\u001b[0m",
      "\u001b[0;31mNotImplementedError\u001b[0m                       Traceback (most recent call last)",
      "\u001b[0;32m<ipython-input-26-9161ad6e6d14>\u001b[0m in \u001b[0;36m<module>\u001b[0;34m\u001b[0m\n\u001b[1;32m      1\u001b[0m \u001b[0;31m# Run the function and print alpha_max.\u001b[0m\u001b[0;34m\u001b[0m\u001b[0;34m\u001b[0m\u001b[0m\n\u001b[0;32m----> 2\u001b[0;31m \u001b[0me_levels_0_01\u001b[0m \u001b[0;34m=\u001b[0m \u001b[0menergy_levels_best\u001b[0m\u001b[0;34m(\u001b[0m\u001b[0;36m0.01\u001b[0m\u001b[0;34m)\u001b[0m\u001b[0;34m\u001b[0m\u001b[0m\n\u001b[0m\u001b[1;32m      3\u001b[0m \u001b[0mprint\u001b[0m \u001b[0;34m(\u001b[0m\u001b[0;34m\"alpha = 0.01:\"\u001b[0m\u001b[0;34m,\u001b[0m \u001b[0me_levels_0_01\u001b[0m\u001b[0;34m)\u001b[0m\u001b[0;34m\u001b[0m\u001b[0m\n\u001b[1;32m      4\u001b[0m \u001b[0;31m# Run the function and print alpha_max.\u001b[0m\u001b[0;34m\u001b[0m\u001b[0;34m\u001b[0m\u001b[0m\n\u001b[1;32m      5\u001b[0m \u001b[0malpha_max_best\u001b[0m \u001b[0;34m=\u001b[0m \u001b[0mfind_alpha_max_best\u001b[0m\u001b[0;34m(\u001b[0m\u001b[0;34m)\u001b[0m\u001b[0;34m\u001b[0m\u001b[0m\n",
      "\u001b[0;32m<ipython-input-25-bd09fdfaa3d2>\u001b[0m in \u001b[0;36menergy_levels_best\u001b[0;34m(alpha)\u001b[0m\n\u001b[1;32m      3\u001b[0m     \u001b[0;31m# Remove the line that says \"raise NotImplementedError\"\u001b[0m\u001b[0;34m\u001b[0m\u001b[0;34m\u001b[0m\u001b[0m\n\u001b[1;32m      4\u001b[0m     \u001b[0;31m# YOUR CODE HERE\u001b[0m\u001b[0;34m\u001b[0m\u001b[0;34m\u001b[0m\u001b[0m\n\u001b[0;32m----> 5\u001b[0;31m     \u001b[0;32mraise\u001b[0m \u001b[0mNotImplementedError\u001b[0m\u001b[0;34m(\u001b[0m\u001b[0;34m)\u001b[0m\u001b[0;34m\u001b[0m\u001b[0m\n\u001b[0m\u001b[1;32m      6\u001b[0m     \u001b[0;32mreturn\u001b[0m \u001b[0mE1\u001b[0m\u001b[0;34m,\u001b[0m \u001b[0mE2\u001b[0m\u001b[0;34m\u001b[0m\u001b[0m\n\u001b[1;32m      7\u001b[0m \u001b[0;34m\u001b[0m\u001b[0m\n",
      "\u001b[0;31mNotImplementedError\u001b[0m: "
     ]
    }
   ],
   "source": [
    "# Run the function and print alpha_max.\n",
    "e_levels_0_01 = energy_levels_best(0.01)\n",
    "print (\"alpha = 0.01:\", e_levels_0_01)\n",
    "# Run the function and print alpha_max.\n",
    "alpha_max_best = find_alpha_max_best()\n",
    "print (\"alpha_max:\", alpha_max_best)"
   ]
  },
  {
   "cell_type": "code",
   "execution_count": null,
   "metadata": {},
   "outputs": [],
   "source": []
  }
 ],
 "metadata": {
  "kernelspec": {
   "display_name": "Python 3",
   "language": "python",
   "name": "python3"
  },
  "language_info": {
   "codemirror_mode": {
    "name": "ipython",
    "version": 3
   },
   "file_extension": ".py",
   "mimetype": "text/x-python",
   "name": "python",
   "nbconvert_exporter": "python",
   "pygments_lexer": "ipython3",
   "version": "3.7.4"
  }
 },
 "nbformat": 4,
 "nbformat_minor": 2
}
